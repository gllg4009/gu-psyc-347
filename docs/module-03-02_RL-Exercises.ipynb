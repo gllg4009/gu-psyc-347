{
 "cells": [
  {
   "cell_type": "markdown",
   "id": "atomic-optics",
   "metadata": {},
   "source": [
    "[![Open In Colab](https://colab.research.google.com/assets/colab-badge.svg)](https://colab.research.google.com/github/shawnrhoads/gu-psyc-347/blob/master/docs/module-03-02_RL-Exercises.ipynb)\n",
    "\n",
    "# RL Exercises\n",
    "\n",
    "These exercises were inspired by and adapted from [Models of Learning](http://www.hannekedenouden.ruhosting.nl/RLtutorial/Instructions.html) by Jill O'Reilly and Hanneke den Ouden, [NSCS 344 - Modeling the Mind](http://u.arizona.edu/~bob/web_NSCS344/index.htm) by Robert C. Wilson, [NSCI 526 - Tutorial 2 (Reinforcement Learning)](https://github.com/shawnrhoads/gu-nsci-526) by Shawn Rhoads, the [Gambling Game tutorial](https://github.com/cloudssty/Gambling-Game), and the [Neuromatch Academy tutorials](https://github.com/NeuromatchAcademy/course-content) [[CC BY 4.0](https://creativecommons.org/licenses/by/4.0/)."
   ]
  },
  {
   "cell_type": "markdown",
   "id": "electoral-manner",
   "metadata": {},
   "source": [
    "In these exercises, we will fit learning behavior to the Rescorla Wagner model of Reinforcement Learning. The data can be downloaded from GitHub, Canvas, or by using the following code:"
   ]
  },
  {
   "cell_type": "code",
   "execution_count": null,
   "id": "precise-kelly",
   "metadata": {},
   "outputs": [],
   "source": [
    "import os, requests\n",
    "\n",
    "# create list of URLs\n",
    "urls = [f'https://raw.githubusercontent.com/shawnrhoads/gu-psyc-347/master/docs/static/data/sub-{x:02}_RLdata.csv' for x in range(0,15)]\n",
    "\n",
    "# loop through list and download data\n",
    "for url in urls:\n",
    "    r = requests.get(url, allow_redirects=True)\n",
    "    filename = 'static/data/' + os.path.basename(url)\n",
    "    open(filename, 'wb').write(r.content)"
   ]
  },
  {
   "cell_type": "markdown",
   "id": "western-discussion",
   "metadata": {},
   "source": [
    "Now, that we've downloaded our data, let's explore it together!\n"
   ]
  },
  {
   "cell_type": "markdown",
   "id": "knowing-series",
   "metadata": {},
   "source": [
    "<hr>"
   ]
  },
  {
   "cell_type": "markdown",
   "id": "maritime-programmer",
   "metadata": {},
   "source": [
    "## Part 1\n",
    "You will break out in groups of 2-3 to discuss the following questions (<font color='red'>highlighted in red font</font>) and implement code to answer them. I have prepared a few functions that will help you along the way.\n",
    "\n",
    "Then, we will re-group with the entire class to discuss what we've learned. Please remember to save your work. This will count towards your Jupyter Notebook Exercise #3 grade."
   ]
  },
  {
   "cell_type": "code",
   "execution_count": null,
   "id": "theoretical-genius",
   "metadata": {},
   "outputs": [],
   "source": [
    "# first let's import our packages\n",
    "\n",
    "from scipy.optimize import minimize # finding optimal params in models\n",
    "from scipy import stats             # statistical tools\n",
    "import numpy as np                  # matrix/array functions\n",
    "import pandas as pd                 # loading and manipulating data\n",
    "import ipywidgets as widgets        # interactive display\n",
    "import matplotlib.pyplot as plt     # plotting\n",
    "%matplotlib inline\n",
    "\n",
    "np.random.seed(2021)                # set seed for reproducibility"
   ]
  },
  {
   "cell_type": "code",
   "execution_count": null,
   "id": "lyric-concentration",
   "metadata": {},
   "outputs": [],
   "source": [
    "# this function will load the data into memory (assuming that\n",
    "# the data are downloaded)\n",
    "def load_subjects(how_many=15):\n",
    "    '''\n",
    "    input: number of subjects' data to load from 1-14\n",
    "    output: dictionary of DataFrames containing the data\n",
    "    '''\n",
    "    \n",
    "    assert (how_many > 0) and (how_many <= 15), \"0 < how_many < 15\"\n",
    "    files = [f'static/data/sub-{x:02}_RLdata.csv' for x in range(0,how_many)]\n",
    "    \n",
    "    subject_data = {}\n",
    "    for index, file in enumerate(files):\n",
    "        subject_data[index] = pd.read_csv(file, index_col=0)\n",
    "    \n",
    "    return subject_data"
   ]
  },
  {
   "cell_type": "code",
   "execution_count": null,
   "id": "frank-syndrome",
   "metadata": {},
   "outputs": [],
   "source": [
    "# let's load in our data using the function above\n",
    "# feel free to adjust `how_many` (the default is all 15 subjects)\n",
    "subject_data = load_subjects()"
   ]
  },
  {
   "cell_type": "markdown",
   "id": "military-password",
   "metadata": {},
   "source": [
    "### 1. Getting to know your stimuli\n",
    "\n",
    "Subjects played a few rounds of the two-armed bandit task, in which they learned the reward probability distribution of two slot machines (**stim_A** and **stim_B**) through trial-and-error. \n",
    "\n",
    "<font color=\"red\">1a. How many trials did each subject complete?</font> (*Hint: explore the Dictionary of DataFrames*)"
   ]
  },
  {
   "cell_type": "code",
   "execution_count": null,
   "id": "after-designation",
   "metadata": {},
   "outputs": [],
   "source": [
    "# insert your code here"
   ]
  },
  {
   "cell_type": "markdown",
   "id": "abandoned-taiwan",
   "metadata": {},
   "source": [
    "**ANSWER 1a: *insert your answer here***"
   ]
  },
  {
   "cell_type": "markdown",
   "id": "universal-steering",
   "metadata": {},
   "source": [
    "Each slot machine was associated with a different mean probability (i.e., **stim_A** yielded rewards according to a constant probability and **stim_B** yielded rewards according to a different constant probability). \n",
    "\n",
    "<font color=\"red\">1b. What were the probabilities of each stimulus?<br>\n",
    "1c. Did **stim_A** have the same probability for every subject? **stim_B**? Why or why not?</font>"
   ]
  },
  {
   "cell_type": "code",
   "execution_count": null,
   "id": "technological-transformation",
   "metadata": {},
   "outputs": [],
   "source": [
    "# insert your code here"
   ]
  },
  {
   "cell_type": "markdown",
   "id": "varied-patrick",
   "metadata": {},
   "source": [
    "**ANSWER 1b: *insert your answer here***\n",
    "\n",
    "**ANSWER 1c: *insert your answer here***"
   ]
  },
  {
   "cell_type": "markdown",
   "id": "entitled-operations",
   "metadata": {},
   "source": [
    "### 2. Exploring behavior\n",
    "\n",
    "People learn (or don't) in many different ways. Some people are extremely sensitive when outcomes aren't what they expected. Others aren't willing to update their behaviors so quickly.\n",
    "\n",
    "People also make decisions differently. Some people are more explorative and are event willing to try a riskier action just to see what happens. Others are more \"deterministic\" with their actions tend to stick with what they know is best.\n",
    "\n",
    "While there are plenty more ways people vary in their learning and decision-making behavior, we are going to explore these two aspects. \n",
    "\n",
    "*Hint: please use the `plot_behavior()` function to explore different aspects of subjects' behavior and outcomes*"
   ]
  },
  {
   "cell_type": "code",
   "execution_count": null,
   "id": "sudden-debut",
   "metadata": {},
   "outputs": [],
   "source": [
    "def plot_behavior(subject_data, subject_id, choices=False, outcomes=False, probability=False):\n",
    "    '''\n",
    "    input: \n",
    "        subject_data: dictionary containing\n",
    "        subject_id: integer from 0-14 corresponding to an ID number\n",
    "        choices: boolean indicating whether to plot choices or not\n",
    "        outcomes: boolean indicating whether to plot outcomes or not\n",
    "        probability: boolean indicating whether to plot the mean reward over trials for both stimuli or not\n",
    "    output:\n",
    "        plot of behavior\n",
    "    '''\n",
    "    assert type(subject_data) is dict, \"`subject_data` should be a dictionary, run the `load_subjects()` function above to load the data into memory\"\n",
    "    assert type(subject_id) is int and subject_id >= 0 and subject_id <14, \"`subject_id` should be an integer between 0 and 14\"\n",
    "    \n",
    "    data = subject_data[subject_id]\n",
    "    \n",
    "    if probability:\n",
    "        plt.axhline(np.mean(data[data.choice==0].outcome), color=\"orange\", alpha=.4, label=data.columns[0])\n",
    "        plt.axhline(np.mean(data[data.choice==1].outcome), color=\"purple\", alpha=.4, label=data.columns[1])\n",
    "        \n",
    "    if outcomes:\n",
    "        plt.plot(range(len(data)), data.outcome, 'r--', alpha=.6)\n",
    "    if choices:\n",
    "        if np.mean(data.choice) < .5:\n",
    "            choice_data = [0 if x == 1 else 1 for x in data.choice]\n",
    "        else:\n",
    "            choice_data = [x for x in data.choice]\n",
    "        plt.plot(range(len(data)), choice_data, '+', label='choice')\n",
    "    \n",
    "    plt.xlabel('trials')\n",
    "    plt.ylabel('outcome')\n",
    "    plt.title(f'Behavior from subject #{subject_id}')\n",
    "    plt.legend()\n",
    "    plt.show()"
   ]
  },
  {
   "cell_type": "markdown",
   "id": "boxed-college",
   "metadata": {},
   "source": [
    "Plot everyone's behavior and answer the following questions (*hint: there's way to plot everyone's data using only two lines of code).\n",
    "<br><br>\n",
    "\n",
    "<font color=\"red\">\n",
    "    2a. Which subjects were most sensitive to previous unexpected outcomes? List the subject ID numbers. Describe which aspect(s) of the data led you to this conclusion. What parameter from the Rescorla-Wagner Model captures this tendency?<br>\n",
    "    2c. Which subjects were least explorative in their behavior? List the subject ID numbers. Describe which aspect(s) of the data led you to this conclusion. What parameter from the Rescorla-Wagner Model captures this tendency?</font>"
   ]
  },
  {
   "cell_type": "code",
   "execution_count": null,
   "id": "psychological-occasions",
   "metadata": {},
   "outputs": [],
   "source": [
    "# insert your code here"
   ]
  },
  {
   "cell_type": "markdown",
   "id": "hearing-reverse",
   "metadata": {},
   "source": [
    "**ANSWER 2a: *insert your answer here***\n",
    "\n",
    "**ANSWER 2b: *insert your answer here***"
   ]
  },
  {
   "cell_type": "markdown",
   "id": "prescription-accident",
   "metadata": {},
   "source": [
    "### 3. Exploring outcomes\n",
    "\n",
    "<font color=\"red\">Earlier, we learned that the reward probabilities of each stimulus were fixed, how do these values compare with the actual mean reward over trials across subjects (according to their choices)? Are they similar? Why or why not?</font> (*Hint: see plots above and/or explore different subjects' \"outcome\" column*)<br>\n"
   ]
  },
  {
   "cell_type": "code",
   "execution_count": null,
   "id": "psychological-lawrence",
   "metadata": {},
   "outputs": [],
   "source": [
    "# insert your code here"
   ]
  },
  {
   "cell_type": "markdown",
   "id": "cheap-detection",
   "metadata": {},
   "source": [
    "**ANSWER 3: *insert your answer here***"
   ]
  },
  {
   "cell_type": "markdown",
   "id": "laughing-tumor",
   "metadata": {},
   "source": [
    "Great job! Don't forget to save any of your work. It will also be useful for **Part 2**!"
   ]
  },
  {
   "cell_type": "markdown",
   "id": "manual-fiction",
   "metadata": {},
   "source": [
    "<hr>"
   ]
  },
  {
   "cell_type": "markdown",
   "id": "accurate-border",
   "metadata": {},
   "source": [
    "## Part 2"
   ]
  },
  {
   "cell_type": "code",
   "execution_count": null,
   "id": "million-ontario",
   "metadata": {},
   "outputs": [],
   "source": []
  }
 ],
 "metadata": {
  "kernelspec": {
   "display_name": "Python 3",
   "language": "python",
   "name": "python3"
  },
  "language_info": {
   "codemirror_mode": {
    "name": "ipython",
    "version": 3
   },
   "file_extension": ".py",
   "mimetype": "text/x-python",
   "name": "python",
   "nbconvert_exporter": "python",
   "pygments_lexer": "ipython3",
   "version": "3.7.10"
  }
 },
 "nbformat": 4,
 "nbformat_minor": 5
}

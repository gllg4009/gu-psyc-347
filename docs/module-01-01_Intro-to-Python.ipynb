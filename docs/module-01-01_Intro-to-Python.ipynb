{
 "cells": [
  {
   "cell_type": "markdown",
   "metadata": {},
   "source": [
    "# Intro to Python Basics\n",
    "\n",
    "This tutorial has been adapted from the following resources on Jupyter Notebooks and Python:\n",
    "- Luke Chang's [DartBrains](https://dartbrains.org)\n",
    "- [NumPy Quickstart Tutorial](https://numpy.org/devdocs/user/quickstart.html)"
   ]
  },
  {
   "cell_type": "markdown",
   "metadata": {},
   "source": [
    "<hr>"
   ]
  },
  {
   "cell_type": "markdown",
   "metadata": {},
   "source": [
    "## Types of Variables\n",
    "- Numeric types:\n",
    "    - int, float, long, complex\n",
    "- string\n",
    "- boolean\n",
    "    - True / False\n",
    "    \n",
    "Python's simple types are summarized in the following table:\n",
    "\n",
    "**<center>Python Scalar Types</center>**\n",
    "\n",
    "| Type        | Example        | Description                                                  |\n",
    "|-------------|----------------|--------------------------------------------------------------|\n",
    "| ``str``     | ``x = 'abc'``  | String: characters or text                                   | \n",
    "| ``int``     | ``x = 1``      | integers (i.e., whole numbers)                               |\n",
    "| ``float``   | ``x = 1.0``    | floating-point numbers (i.e., real numbers)                  |                  \n",
    "| ``complex`` | ``x = 1 + 2j`` | Complex numbers (i.e., numbers with real and imaginary part) |\n",
    "| ``bool``    | ``x = True``   | Boolean: True/False values                                   | \n",
    "| ``NoneType``| ``x = None``   | Special object indicating nulls                              | \n",
    "\n",
    "Use the `type()` function to find the type for a value or variable"
   ]
  },
  {
   "cell_type": "code",
   "execution_count": 3,
   "metadata": {},
   "outputs": [
    {
     "name": "stdout",
     "output_type": "stream",
     "text": [
      "<class 'str'>\n"
     ]
    }
   ],
   "source": [
    "# String\n",
    "c = 'hello'\n",
    "print(type(c))"
   ]
  },
  {
   "cell_type": "code",
   "execution_count": 1,
   "metadata": {},
   "outputs": [
    {
     "name": "stdout",
     "output_type": "stream",
     "text": [
      "<class 'int'>\n"
     ]
    }
   ],
   "source": [
    "# Integer\n",
    "a = 1\n",
    "print(type(a))"
   ]
  },
  {
   "cell_type": "code",
   "execution_count": 2,
   "metadata": {},
   "outputs": [
    {
     "name": "stdout",
     "output_type": "stream",
     "text": [
      "<class 'float'>\n"
     ]
    }
   ],
   "source": [
    "# Float\n",
    "b = 1.0\n",
    "print(type(b))"
   ]
  },
  {
   "cell_type": "code",
   "execution_count": 4,
   "metadata": {},
   "outputs": [
    {
     "name": "stdout",
     "output_type": "stream",
     "text": [
      "<class 'bool'>\n"
     ]
    }
   ],
   "source": [
    "# Boolean\n",
    "d = True\n",
    "print(type(d))"
   ]
  },
  {
   "cell_type": "code",
   "execution_count": 5,
   "metadata": {},
   "outputs": [
    {
     "name": "stdout",
     "output_type": "stream",
     "text": [
      "<class 'NoneType'>\n"
     ]
    }
   ],
   "source": [
    "# None\n",
    "e = None\n",
    "print(type(e))"
   ]
  },
  {
   "cell_type": "code",
   "execution_count": 6,
   "metadata": {},
   "outputs": [
    {
     "name": "stdout",
     "output_type": "stream",
     "text": [
      "<class 'str'>\n"
     ]
    }
   ],
   "source": [
    "# Cast integer to string\n",
    "print(type(str(a)))"
   ]
  },
  {
   "cell_type": "markdown",
   "metadata": {},
   "source": [
    "<hr>"
   ]
  },
  {
   "cell_type": "markdown",
   "metadata": {},
   "source": [
    "## String Operators\n",
    "Some of the arithmetic operators also have meaning for strings. E.g. for string concatenation use + sign\n",
    "\n",
    "String repetition: Use * sign with a number of repetitions"
   ]
  },
  {
   "cell_type": "code",
   "execution_count": 30,
   "metadata": {},
   "outputs": [
    {
     "name": "stdout",
     "output_type": "stream",
     "text": [
      "Hello World\n"
     ]
    }
   ],
   "source": [
    "# Assigning and combining strings\n",
    "a = 'Hello'\n",
    "b = 'World'\n",
    "print(a + ' ' + b)"
   ]
  },
  {
   "cell_type": "code",
   "execution_count": 34,
   "metadata": {},
   "outputs": [
    {
     "name": "stdout",
     "output_type": "stream",
     "text": [
      "My name is Shawn\n"
     ]
    }
   ],
   "source": [
    "# f-strings\n",
    "firstname = 'Shawn'\n",
    "print(f'My name is {firstname}')"
   ]
  },
  {
   "cell_type": "code",
   "execution_count": 35,
   "metadata": {},
   "outputs": [
    {
     "name": "stdout",
     "output_type": "stream",
     "text": [
      "My name is Shawn Rhoads\n"
     ]
    }
   ],
   "source": [
    "# Combining f-strings\n",
    "firstname = 'Shawn'\n",
    "lastname = 'Rhoads'\n",
    "\n",
    "print(f'My name is {firstname} {lastnamename}')"
   ]
  },
  {
   "cell_type": "code",
   "execution_count": 36,
   "metadata": {
    "scrolled": true
   },
   "outputs": [
    {
     "name": "stdout",
     "output_type": "stream",
     "text": [
      "HelloHelloHelloHelloHello\n"
     ]
    }
   ],
   "source": [
    "# Repeat String without spaces\n",
    "print(str(a)*5)"
   ]
  },
  {
   "cell_type": "code",
   "execution_count": 37,
   "metadata": {},
   "outputs": [
    {
     "name": "stdout",
     "output_type": "stream",
     "text": [
      "Hello Hello Hello Hello Hello \n"
     ]
    }
   ],
   "source": [
    "# Repeat String with spaces\n",
    "print(str(a+' ')*5)"
   ]
  },
  {
   "cell_type": "markdown",
   "metadata": {},
   "source": [
    "<hr>"
   ]
  },
  {
   "cell_type": "markdown",
   "metadata": {},
   "source": [
    "## Math Operators\n",
    "- +, -, *, and /\n",
    "- Exponentiation **\n",
    "- Modulo % (Remainder)"
   ]
  },
  {
   "cell_type": "code",
   "execution_count": 13,
   "metadata": {},
   "outputs": [
    {
     "name": "stdout",
     "output_type": "stream",
     "text": [
      "a = 9\n"
     ]
    }
   ],
   "source": [
    "# Addition\n",
    "a = 2 + 7\n",
    "print(f'a = {a}')"
   ]
  },
  {
   "cell_type": "code",
   "execution_count": 16,
   "metadata": {},
   "outputs": [
    {
     "name": "stdout",
     "output_type": "stream",
     "text": [
      "b = a-5 = 9-5 = 4\n"
     ]
    }
   ],
   "source": [
    "# Subtraction\n",
    "b = a - 5\n",
    "print(f'b = a-5 = {a}-5 = {b}')"
   ]
  },
  {
   "cell_type": "code",
   "execution_count": 17,
   "metadata": {},
   "outputs": [
    {
     "name": "stdout",
     "output_type": "stream",
     "text": [
      "b*2 = 4*2 = 8\n"
     ]
    }
   ],
   "source": [
    "# Multiplication\n",
    "print(f'b*2 = {b}*2 = {b*2}')"
   ]
  },
  {
   "cell_type": "code",
   "execution_count": 20,
   "metadata": {},
   "outputs": [
    {
     "name": "stdout",
     "output_type": "stream",
     "text": [
      "a/3 = 9/3 = 3.0\n"
     ]
    }
   ],
   "source": [
    "# Division\n",
    "print(f'a/3 = {a}/3 = {a/3}')"
   ]
  },
  {
   "cell_type": "code",
   "execution_count": 25,
   "metadata": {},
   "outputs": [
    {
     "name": "stdout",
     "output_type": "stream",
     "text": [
      "b^2 = b**2 = 4**2 = 16\n"
     ]
    }
   ],
   "source": [
    "# Exponentiation\n",
    "print(f'b^2 = b**2 = {b}**2 = {b**2}')"
   ]
  },
  {
   "cell_type": "code",
   "execution_count": 24,
   "metadata": {},
   "outputs": [
    {
     "name": "stdout",
     "output_type": "stream",
     "text": [
      "(Modulo returns the remainder of dividing the left hand operand by right hand operand)\n",
      "remainder of b/9 = remainder of 4/9 = 4\n"
     ]
    }
   ],
   "source": [
    "# Modulo \n",
    "print('(Modulo returns the remainder of dividing the left hand operand by right hand operand)')\n",
    "print(f'remainder of b/9 = remainder of {b}/9 = {b%9}')"
   ]
  },
  {
   "cell_type": "markdown",
   "metadata": {},
   "source": [
    "<hr>"
   ]
  },
  {
   "cell_type": "markdown",
   "metadata": {},
   "source": [
    "## Logical Operators\n",
    "\n",
    "Perform logical comparison and return Boolean value\n",
    "\n",
    "```\n",
    "x == y # x is equal to y\n",
    "x != y # x is not equal to y\n",
    "x > y # x is greater than y\n",
    "x < y # x is less than y\n",
    "x >= y # x is greater than or equal to y \n",
    "x <= y # x is less than or equal to y\n",
    "```"
   ]
  },
  {
   "cell_type": "code",
   "execution_count": 40,
   "metadata": {},
   "outputs": [
    {
     "name": "stdout",
     "output_type": "stream",
     "text": [
      "a==b: False\n",
      "a==c: False\n",
      "a!=b: True\n",
      "\n"
     ]
    }
   ],
   "source": [
    "# Works for strings\n",
    "a = 'hello'\n",
    "b = 'world'\n",
    "c = 'Hello'\n",
    "print('a==b: ' + str(a==b))\n",
    "print('a==c: ' + str(a==c))\n",
    "print('a!=b: ' + str(a!=b))\n",
    "print()"
   ]
  },
  {
   "cell_type": "code",
   "execution_count": 42,
   "metadata": {},
   "outputs": [
    {
     "name": "stdout",
     "output_type": "stream",
     "text": [
      "d < e: True\n",
      "d >= e: False\n"
     ]
    }
   ],
   "source": [
    "# Works for numeric\n",
    "d = 5\n",
    "e = 8\n",
    "print('d < e: ' + str(d < e))\n",
    "print('d >= e: ' + str(d >= e))"
   ]
  },
  {
   "cell_type": "markdown",
   "metadata": {},
   "source": [
    "<hr>"
   ]
  },
  {
   "cell_type": "markdown",
   "metadata": {},
   "source": [
    "## Conditional Logic (if…)\n",
    "\n",
    "Unlike most other languages, Python uses tab formatting rather than closing conditional statements (e.g., end)\n",
    "\n",
    "Syntax (note spacing):\n",
    "```\n",
    "if condition: \n",
    "    do something\n",
    "```\n",
    "\n",
    "Implicit conversion of the value to `bool()` happens if condition is of a different type than bool, thus all of the following should work:\n",
    "```\n",
    "if condition:\n",
    "    do_something\n",
    "elif condition:\n",
    "    do_alternative\n",
    "else:\n",
    "    do_otherwise # often reserved to report an error\n",
    "                 # after a long list of options\n",
    "    ```"
   ]
  },
  {
   "cell_type": "code",
   "execution_count": 49,
   "metadata": {},
   "outputs": [
    {
     "name": "stdout",
     "output_type": "stream",
     "text": [
      "n is non-0\n"
     ]
    }
   ],
   "source": [
    "n = 2\n",
    "\n",
    "if n:\n",
    "    print(\"n is non-0 or not None\")"
   ]
  },
  {
   "cell_type": "code",
   "execution_count": 5,
   "metadata": {},
   "outputs": [
    {
     "name": "stdout",
     "output_type": "stream",
     "text": [
      "n is non-0\n",
      "n is not string\n"
     ]
    }
   ],
   "source": [
    "if n is None:\n",
    "    print(\"n is None\")\n",
    "    \n",
    "if n is not str:\n",
    "    print(\"n is not string\")"
   ]
  },
  {
   "cell_type": "code",
   "execution_count": 50,
   "metadata": {},
   "outputs": [
    {
     "name": "stdout",
     "output_type": "stream",
     "text": [
      "y > x\n"
     ]
    }
   ],
   "source": [
    "x = 20\n",
    "y = 21\n",
    "\n",
    "if y > x:\n",
    "    print('y > x')\n",
    "elif y < x:\n",
    "    print('y < x')"
   ]
  },
  {
   "cell_type": "code",
   "execution_count": 52,
   "metadata": {},
   "outputs": [
    {
     "name": "stdout",
     "output_type": "stream",
     "text": [
      "True\n"
     ]
    }
   ],
   "source": [
    "if x==20 and y==21:\n",
    "    print('True')\n",
    "else:\n",
    "    print('False')"
   ]
  },
  {
   "cell_type": "code",
   "execution_count": 54,
   "metadata": {},
   "outputs": [
    {
     "name": "stdout",
     "output_type": "stream",
     "text": [
      "True\n"
     ]
    }
   ],
   "source": [
    "if x==20 or y==100:\n",
    "    print('True')\n",
    "else:\n",
    "    print('False')"
   ]
  },
  {
   "cell_type": "code",
   "execution_count": 55,
   "metadata": {},
   "outputs": [
    {
     "name": "stdout",
     "output_type": "stream",
     "text": [
      "False\n"
     ]
    }
   ],
   "source": [
    "if x==200 or y==100:\n",
    "    print('True')\n",
    "else:\n",
    "    print('False')"
   ]
  },
  {
   "cell_type": "markdown",
   "metadata": {},
   "source": [
    "<hr>"
   ]
  },
  {
   "cell_type": "markdown",
   "metadata": {},
   "source": [
    "It’s also possible to use a **while** loop to repeat statements while condition remains True:\n",
    "```\n",
    "while condition do:\n",
    "    do_statements\n",
    "```"
   ]
  },
  {
   "cell_type": "code",
   "execution_count": 8,
   "metadata": {
    "scrolled": true
   },
   "outputs": [
    {
     "name": "stdout",
     "output_type": "stream",
     "text": [
      "0 0\n",
      "1 1\n",
      "2 3\n",
      "3 6\n",
      "4 10\n",
      "5 15\n",
      "6 21\n",
      "7 28\n",
      "8 36\n",
      "9 45\n",
      "Exited with x==10\n"
     ]
    }
   ],
   "source": [
    "x = 0\n",
    "end = 10\n",
    "\n",
    "csum = 0\n",
    "while x < end:\n",
    "    csum += x\n",
    "    print(x, csum)\n",
    "    x += 1\n",
    "print(\"Exited with x==%d\" % x )"
   ]
  },
  {
   "cell_type": "markdown",
   "metadata": {},
   "source": [
    "## Python Containers\n",
    "\n",
    "There are 4 main types of builtin containers for storing data in Python:\n",
    "- list $\\checkmark$\n",
    "- dict $\\checkmark$\n",
    "- set\n",
    "- tuple"
   ]
  },
  {
   "cell_type": "markdown",
   "metadata": {},
   "source": [
    "### Lists\n",
    "In Python, a list is a mutable sequence of values. Mutable means that we can change separate entries within a list. \n",
    "- Each value in the list is an element or item\n",
    "- Elements can be any Python data type\n",
    "- Lists can mix data types\n",
    "\n",
    "- Lists are initialized with [] or list()\n",
    "```\n",
    "l = [1,2,3]\n",
    "```\n",
    "\n",
    "- Elements within a list are indexed (starting with 0)\n",
    "```\n",
    "l[0]\n",
    "```\n",
    "\n",
    "- Elements can be nested lists\n",
    "```\n",
    "nested = [[1, 2, 3], [4, 5, 6], [7, 8, 9]]\n",
    "```\n",
    "\n",
    "- Lists can be sliced.\n",
    "```\n",
    "l[start:stop:stride]\n",
    "```\n",
    "\n",
    "- Like all python containers, lists have many useful methods that can be applied\n",
    "```\n",
    "a.insert(index,new element)\n",
    "a.append(element to add at end)\n",
    "len(a)\n",
    "```\n"
   ]
  },
  {
   "cell_type": "code",
   "execution_count": 63,
   "metadata": {},
   "outputs": [
    {
     "name": "stdout",
     "output_type": "stream",
     "text": [
      "[1, 2, 3]\n"
     ]
    }
   ],
   "source": [
    "list_a = [1,2,3]\n",
    "print(list_a)"
   ]
  },
  {
   "cell_type": "code",
   "execution_count": 77,
   "metadata": {},
   "outputs": [
    {
     "name": "stdout",
     "output_type": "stream",
     "text": [
      "['hello', 'bye', 'hi']\n"
     ]
    }
   ],
   "source": [
    "list_of_strings = ['hello', 'bye', 'hi']\n",
    "print(list_of_strings)"
   ]
  },
  {
   "cell_type": "code",
   "execution_count": 73,
   "metadata": {},
   "outputs": [
    {
     "name": "stdout",
     "output_type": "stream",
     "text": [
      "list\n",
      "['of', 'things']\n"
     ]
    }
   ],
   "source": [
    "# Indexing and Slicing\n",
    "list_b = ['list','of','things']\n",
    "print(list_b[0])\n",
    "print(list_b[1:3])"
   ]
  },
  {
   "cell_type": "code",
   "execution_count": 17,
   "metadata": {},
   "outputs": [
    {
     "data": {
      "text/plain": [
       "[1, 3, 5]"
      ]
     },
     "execution_count": 17,
     "metadata": {},
     "output_type": "execute_result"
    }
   ],
   "source": [
    "list = [1,2,3,4,5]\n",
    "list[0::2]"
   ]
  },
  {
   "cell_type": "code",
   "execution_count": 74,
   "metadata": {},
   "outputs": [
    {
     "name": "stdout",
     "output_type": "stream",
     "text": [
      "['list', 'of', 'python', 'things']\n"
     ]
    }
   ],
   "source": [
    "# List methods (insert)\n",
    "list_b.insert(2,'python')\n",
    "print(list_b)"
   ]
  },
  {
   "cell_type": "code",
   "execution_count": 83,
   "metadata": {},
   "outputs": [
    {
     "name": "stdout",
     "output_type": "stream",
     "text": [
      "['list', 'of', 'python', 'things', '.', 'a', 'b', 'c', 'a', 'b', 'c', 'a', 'b', 'c', 'a', 'b', 'c', 'a', 'b', 'c', 'a', 'b', 'c', '.']\n"
     ]
    }
   ],
   "source": [
    "# List methods (append)\n",
    "list_b.append('.')\n",
    "print(list_b)"
   ]
  },
  {
   "cell_type": "code",
   "execution_count": 85,
   "metadata": {},
   "outputs": [
    {
     "name": "stdout",
     "output_type": "stream",
     "text": [
      "PSYC 347 - Computational Models of Human Social Behavior and Neuroscience\n",
      "PSYC 347 - COMPUTATIONAL MODELS OF HUMAN SOCIAL BEHAVIOR AND NEUROSCIENCE\n"
     ]
    }
   ],
   "source": [
    "# Methods could be applied to other objects (like strings)\n",
    "example_string = 'PSYC 347 - Computational Models of Human Social Behavior and Neuroscience'\n",
    "print(example_string)\n",
    "print(example_string.upper())"
   ]
  },
  {
   "cell_type": "markdown",
   "metadata": {},
   "source": [
    "<hr>"
   ]
  },
  {
   "cell_type": "markdown",
   "metadata": {},
   "source": [
    "## Loops\n",
    "**for** loop is probably the most popular loop construct in Python:\n",
    "```\n",
    "for target in sequence:\n",
    "    do_statements\n",
    "```"
   ]
  },
  {
   "cell_type": "code",
   "execution_count": 150,
   "metadata": {},
   "outputs": [
    {
     "name": "stdout",
     "output_type": "stream",
     "text": [
      "0\n",
      "1\n",
      "2\n",
      "3\n",
      "4\n",
      "5\n"
     ]
    }
   ],
   "source": [
    "for i in [0, 1, 2, 3, 4, 5]:\n",
    "    print(i)"
   ]
  },
  {
   "cell_type": "code",
   "execution_count": 151,
   "metadata": {},
   "outputs": [
    {
     "name": "stdout",
     "output_type": "stream",
     "text": [
      "0\n",
      "1\n",
      "2\n",
      "3\n",
      "4\n",
      "5\n"
     ]
    }
   ],
   "source": [
    "for i in range(6):\n",
    "    print(i)"
   ]
  },
  {
   "cell_type": "code",
   "execution_count": 155,
   "metadata": {},
   "outputs": [
    {
     "name": "stdout",
     "output_type": "stream",
     "text": [
      "2\n",
      "3\n",
      "4\n"
     ]
    }
   ],
   "source": [
    "for i in range(2,5):\n",
    "    print(i)"
   ]
  },
  {
   "cell_type": "code",
   "execution_count": 87,
   "metadata": {},
   "outputs": [
    {
     "name": "stdout",
     "output_type": "stream",
     "text": [
      "0 P\n",
      "1 S\n",
      "2 Y\n",
      "3 C\n",
      "4 H\n"
     ]
    }
   ],
   "source": [
    "# indexing using for loops\n",
    "list_a = ['P','S','Y','C','H']\n",
    "\n",
    "for index, value in enumerate(list_a):\n",
    "    print(index, value)"
   ]
  },
  {
   "cell_type": "code",
   "execution_count": 88,
   "metadata": {
    "scrolled": false
   },
   "outputs": [
    {
     "name": "stdout",
     "output_type": "stream",
     "text": [
      "P\n",
      "y\n",
      "t\n",
      "h\n",
      "o\n",
      "n\n",
      " \n",
      "i\n",
      "s\n",
      " \n",
      "m\n",
      "a\n",
      "k\n",
      "i\n",
      "n\n",
      "g\n",
      " \n",
      "s\n",
      "c\n",
      "i\n",
      "e\n",
      "n\n",
      "c\n",
      "e\n",
      " \n",
      "e\n",
      "a\n",
      "s\n",
      "i\n",
      "e\n",
      "r\n"
     ]
    }
   ],
   "source": [
    "example_string = \"Python is making science easier\"\n",
    "for c in example_string:\n",
    "    print(c)"
   ]
  },
  {
   "cell_type": "code",
   "execution_count": 89,
   "metadata": {},
   "outputs": [
    {
     "name": "stdout",
     "output_type": "stream",
     "text": [
      "['list', 'of', 'python', 'things', '.', 'a', 'b', 'c', 'a', 'b', 'c', 'a', 'b', 'c', 'a', 'b', 'c', 'a', 'b', 'c', 'a', 'b', 'c', '.']\n",
      "\n",
      "...running for loop\n",
      "\n",
      "['list', 'of', 'python', 'things', '.', 'a', 'b', 'c', 'a', 'b', 'c', 'a', 'b', 'c', 'a', 'b', 'c', 'a', 'b', 'c', 'a', 'b', 'c', '.', 'a', 'b', 'c']\n"
     ]
    }
   ],
   "source": [
    "# appending to lists in for loop\n",
    "print(list_b)\n",
    "\n",
    "print('\\n...running for loop\\n')\n",
    "for value in ['a','b','c']:\n",
    "    list_b.append(value)\n",
    "    \n",
    "print(list_b)"
   ]
  },
  {
   "cell_type": "code",
   "execution_count": 95,
   "metadata": {},
   "outputs": [
    {
     "name": "stdout",
     "output_type": "stream",
     "text": [
      "M\n",
      "O\n",
      "D\n",
      "E\n",
      "L\n",
      "S\n"
     ]
    }
   ],
   "source": [
    "# manipulating lists using for loops\n",
    "for value in ['m','o','d','e','l','s']:\n",
    "    print(value.upper())"
   ]
  },
  {
   "cell_type": "code",
   "execution_count": 96,
   "metadata": {},
   "outputs": [
    {
     "name": "stdout",
     "output_type": "stream",
     "text": [
      "m\n",
      "O\n",
      "d\n",
      "E\n",
      "l\n",
      "S\n"
     ]
    }
   ],
   "source": [
    "# only capitalize every other letter\n",
    "for index, value in enumerate(['m','o','d','e','l','s']):\n",
    "    if index % 2:\n",
    "        print(value.upper())\n",
    "    else:\n",
    "        print(value)"
   ]
  },
  {
   "cell_type": "markdown",
   "metadata": {},
   "source": [
    "As an alternative, list comprehension is a very powerful technique allowing for efficient construction of new lists.\n",
    "```\n",
    "[a for a in l]\n",
    "```"
   ]
  },
  {
   "cell_type": "code",
   "execution_count": 148,
   "metadata": {},
   "outputs": [
    {
     "name": "stdout",
     "output_type": "stream",
     "text": [
      "[90, 99, 108, 117, 126, 135]\n"
     ]
    }
   ],
   "source": [
    "# list comprehension\n",
    "list_example = [10, 11, 12, 13, 14, 15]\n",
    "\n",
    "print([x*9 for x in list_example])"
   ]
  },
  {
   "cell_type": "code",
   "execution_count": 99,
   "metadata": {},
   "outputs": [
    {
     "name": "stdout",
     "output_type": "stream",
     "text": [
      "['MODELS', 'ARE', 'COOL']\n"
     ]
    }
   ],
   "source": [
    "# List Comprehension with methods\n",
    "print([x.upper() for x in list_example])"
   ]
  },
  {
   "cell_type": "markdown",
   "metadata": {},
   "source": [
    "### Dictionaries\n",
    "- In Python, a dictionary (or dict) is mapping between a set of indices (keys) and a set of values\n",
    "- The items in a dictionary are key-value pairs\n",
    "- Keys can be any Python data type\n",
    "- Dictionaries are unordered"
   ]
  },
  {
   "cell_type": "code",
   "execution_count": 102,
   "metadata": {
    "scrolled": true
   },
   "outputs": [
    {
     "name": "stdout",
     "output_type": "stream",
     "text": [
      "{'one': 'uno'}\n"
     ]
    }
   ],
   "source": [
    "# Dictionaries\n",
    "eng2sp = {}\n",
    "eng2sp['one'] = 'uno'\n",
    "print(eng2sp)"
   ]
  },
  {
   "cell_type": "code",
   "execution_count": 103,
   "metadata": {},
   "outputs": [
    {
     "name": "stdout",
     "output_type": "stream",
     "text": [
      "{'one': 'uno', 'two': 'dos', 'three': 'tres'}\n"
     ]
    }
   ],
   "source": [
    "eng2sp = {'one': 'uno', 'two': 'dos', 'three': 'tres'}\n",
    "print(eng2sp)"
   ]
  },
  {
   "cell_type": "code",
   "execution_count": 104,
   "metadata": {},
   "outputs": [
    {
     "name": "stdout",
     "output_type": "stream",
     "text": [
      "dict_keys(['one', 'two', 'three'])\n",
      "dict_values(['uno', 'dos', 'tres'])\n"
     ]
    }
   ],
   "source": [
    "# keys vs values\n",
    "print(eng2sp.keys())\n",
    "print(eng2sp.values())"
   ]
  },
  {
   "cell_type": "markdown",
   "metadata": {},
   "source": [
    "## Functions\n",
    "\n",
    "A **function** is a named sequence of statements that performs a computation. You define the function by giving it a name, specify a sequence of statements, and optionally values to return. Later, you can “call” the function by name."
   ]
  },
  {
   "cell_type": "code",
   "execution_count": 105,
   "metadata": {},
   "outputs": [],
   "source": [
    "def make_upper_case(text):\n",
    "    return (text.upper())"
   ]
  },
  {
   "cell_type": "markdown",
   "metadata": {},
   "source": [
    "- The expression in the parenthesis is the **argument**.\n",
    "- It is common to say that a function **\"takes\" an argument** and **\"returns\" a result**.\n",
    "- The result is called the **return value**.\n",
    "\n",
    "The first line of the function definition is called the header; the rest is called the body.\n",
    "\n",
    "The header has to end with a colon and the body has to be indented. It is a common practice to use 4 spaces for indentation, and to avoid mixing with tabs.\n",
    "\n",
    "Function body in Python ends whenever statement begins at the original level of indentation. There is no end or fed or any other identify to signal the end of function. Indentation is part of the the language syntax in Python, making it more readable and less cluttered."
   ]
  },
  {
   "cell_type": "code",
   "execution_count": 106,
   "metadata": {},
   "outputs": [
    {
     "name": "stdout",
     "output_type": "stream",
     "text": [
      "PYTHON IS MAKING SCIENCE EASIER\n"
     ]
    }
   ],
   "source": [
    "string = \"Python is making science easier\"\n",
    "string_upper = string.upper()\n",
    "print(string_upper)"
   ]
  },
  {
   "cell_type": "code",
   "execution_count": 107,
   "metadata": {},
   "outputs": [
    {
     "data": {
      "text/plain": [
       "'PYTHON IS MAKING SCIENCE EASIER'"
      ]
     },
     "execution_count": 107,
     "metadata": {},
     "output_type": "execute_result"
    }
   ],
   "source": [
    "make_upper_case(string)"
   ]
  },
  {
   "cell_type": "markdown",
   "metadata": {},
   "source": [
    "## Classes\n",
    "*(from: https://realpython.com/python3-object-oriented-programming/)*\n",
    "\n",
    "\"The primitive data structures available in Python, like numbers, strings, and lists are designed to represent simple things like the cost of something, the name of a poem, and your favorite colors, respectively.\n",
    "\n",
    "What if you wanted to represent something much more complicated?\n",
    "\n",
    "For example, let’s say you wanted to track a number of different animals. If you used a list, the first element could be the animal’s name while the second element could represent its age.\n",
    "\n",
    "How would you know which element is supposed to be which? What if you had 100 different animals? Are you certain each animal has both a name and an age, and so forth? What if you wanted to add other properties to these animals? This lacks organization, and it’s the exact need for classes.\n",
    "\n",
    "Classes are used to create new user-defined data structures that contain arbitrary information about something. In the case of an animal, we could create an Animal() class to track properties about the Animal like the name and age.\n",
    "\n",
    "It’s important to note that a class just provides structure—it’s a blueprint for how something should be defined, but it doesn’t actually provide any real content itself. The Animal() class may specify that the name and age are necessary for defining an animal, but it will not actually state what a specific animal’s name or age is.\n",
    "\n",
    "It may help to think of a class as an idea for how something should be defined.\"\n",
    "\n",
    "![img](https://cdn-media-1.freecodecamp.org/images/M4t8zW9U71xeKSlzT2o8WO47mdzrWkNa4rWv)\n"
   ]
  },
  {
   "cell_type": "code",
   "execution_count": 108,
   "metadata": {},
   "outputs": [],
   "source": [
    "# let's create a cat class\n",
    "class Cat:\n",
    "\n",
    "    # Initializer / Instance Attributes\n",
    "    def __init__(self, name, age):\n",
    "        self.name = name\n",
    "        self.age = age\n",
    "        self.hungry = True\n",
    "        self.tired = True\n",
    "\n",
    "    # instance method\n",
    "    def description(self):\n",
    "        __name_age__ = \"{} is {} years old. \".format(self.name, self.age)\n",
    "        \n",
    "        if self.tired == True:\n",
    "            __is_tired__ = \"{} is tired. \".format(self.name)\n",
    "        else:\n",
    "            __is_tired__ = \"{} is not tired. \".format(self.name)\n",
    "        \n",
    "        if self.hungry == True:\n",
    "             __is_hungry__ = \"{} is hungry. \".format(self.name)\n",
    "        else:\n",
    "            __is_hungry__ = \"{} is not hungry. \".format(self.name)\n",
    "        \n",
    "        return str(__name_age__+__is_tired__+__is_hungry__)\n",
    "\n",
    "    # instance method\n",
    "    def meow(self):\n",
    "        return \"{} says {}\".format(self.name, \"Meow! Meow!\")\n",
    "    \n",
    "    def feed(self):\n",
    "        self.hungry = False\n",
    "        print(self.meow())\n",
    "        \n",
    "    def sleep(self):\n",
    "        self.tired = False\n",
    "    \n",
    "        "
   ]
  },
  {
   "cell_type": "code",
   "execution_count": 109,
   "metadata": {},
   "outputs": [],
   "source": [
    "# Instantiate the Cat object\n",
    "kitty = Cat(\"Fat Cat\", 6)"
   ]
  },
  {
   "cell_type": "code",
   "execution_count": 110,
   "metadata": {},
   "outputs": [
    {
     "name": "stdout",
     "output_type": "stream",
     "text": [
      "Fat Cat is 6 years old. Fat Cat is tired. Fat Cat is hungry. \n",
      "Fat Cat says Meow! Meow!\n"
     ]
    }
   ],
   "source": [
    "# call our instance methods\n",
    "print(kitty.description())\n",
    "print(kitty.meow())"
   ]
  },
  {
   "cell_type": "code",
   "execution_count": 112,
   "metadata": {},
   "outputs": [
    {
     "name": "stdout",
     "output_type": "stream",
     "text": [
      "Fat Cat says Meow! Meow!\n"
     ]
    }
   ],
   "source": [
    "kitty.feed()"
   ]
  },
  {
   "cell_type": "code",
   "execution_count": 113,
   "metadata": {},
   "outputs": [
    {
     "name": "stdout",
     "output_type": "stream",
     "text": [
      "Fat Cat is 6 years old. Fat Cat is tired. Fat Cat is not hungry. \n"
     ]
    }
   ],
   "source": [
    "print(kitty.description())"
   ]
  },
  {
   "cell_type": "code",
   "execution_count": 114,
   "metadata": {},
   "outputs": [],
   "source": [
    "kitty.sleep()"
   ]
  },
  {
   "cell_type": "code",
   "execution_count": 115,
   "metadata": {},
   "outputs": [
    {
     "name": "stdout",
     "output_type": "stream",
     "text": [
      "Fat Cat is 6 years old. Fat Cat is not tired. Fat Cat is not hungry. \n"
     ]
    }
   ],
   "source": [
    "print(kitty.description())"
   ]
  },
  {
   "cell_type": "code",
   "execution_count": 118,
   "metadata": {},
   "outputs": [],
   "source": [
    "kitty.name = 'Shawn'"
   ]
  },
  {
   "cell_type": "code",
   "execution_count": 119,
   "metadata": {},
   "outputs": [
    {
     "data": {
      "text/plain": [
       "'Shawn says Meow! Meow!'"
      ]
     },
     "execution_count": 119,
     "metadata": {},
     "output_type": "execute_result"
    }
   ],
   "source": [
    "kitty.meow()"
   ]
  },
  {
   "cell_type": "markdown",
   "metadata": {},
   "source": [
    "## Modules\n",
    "\n",
    "A Module is a python file that contains a collection of related definitions. Python has hundreds of standard modules. These are organized into what is known as the [Python Standard Library](http://docs.python.org/library/). You can also create and use your own modules. To use functionality from a module, you first have to import the entire module or parts of it into your namespace\n",
    "\n",
    "To import the entire module:\n",
    "`python import module_name`\n",
    "\n",
    "You can also import a module using a specific name:\n",
    "`python import module_name as new_module_name`\n",
    "\n",
    "To import specific definitions (e.g. functions, variables, etc) from the module into your local namespace:\n",
    "`from module_name import name1, name2`"
   ]
  },
  {
   "cell_type": "code",
   "execution_count": 120,
   "metadata": {},
   "outputs": [],
   "source": [
    "import os\n",
    "from glob import glob"
   ]
  },
  {
   "cell_type": "markdown",
   "metadata": {},
   "source": [
    "To get the curent directory, you can use: `os.path.abspath(os.path.curdir)`"
   ]
  },
  {
   "cell_type": "markdown",
   "metadata": {},
   "source": [
    "Let’s use glob, a pattern matching function, to list all of the ipynb files in the current folder."
   ]
  },
  {
   "cell_type": "code",
   "execution_count": 121,
   "metadata": {},
   "outputs": [
    {
     "name": "stdout",
     "output_type": "stream",
     "text": [
      "['.\\\\module-00-05_Jupyter-Notebooks.ipynb', '.\\\\module-01-01_Intro-to-Python.ipynb', '.\\\\module-01-02_Modeling-Intro.ipynb']\n"
     ]
    }
   ],
   "source": [
    "data_file_list = glob(os.path.join(os.path.curdir,'*ipynb'))\n",
    "print(data_file_list)"
   ]
  },
  {
   "cell_type": "markdown",
   "metadata": {},
   "source": [
    "This gives us a list of the files including the relative path from the current directory. What if we wanted just the filenames? There are several different ways to do this. First, we can use the the os.path.basename function. We loop over every file, grab the base file name and then append it to a new list."
   ]
  },
  {
   "cell_type": "code",
   "execution_count": 122,
   "metadata": {},
   "outputs": [
    {
     "name": "stdout",
     "output_type": "stream",
     "text": [
      "['module-00-05_Jupyter-Notebooks.ipynb', 'module-01-01_Intro-to-Python.ipynb', 'module-01-02_Modeling-Intro.ipynb']\n"
     ]
    }
   ],
   "source": [
    "file_list = []\n",
    "for f in data_file_list:\n",
    "    file_list.append(os.path.basename(f))\n",
    "\n",
    "print(file_list)"
   ]
  },
  {
   "cell_type": "markdown",
   "metadata": {},
   "source": [
    "It is also sometimes even cleaner to do this as a list comprehension"
   ]
  },
  {
   "cell_type": "code",
   "execution_count": 123,
   "metadata": {},
   "outputs": [
    {
     "data": {
      "text/plain": [
       "['module-00-05_Jupyter-Notebooks.ipynb',\n",
       " 'module-01-01_Intro-to-Python.ipynb',\n",
       " 'module-01-02_Modeling-Intro.ipynb']"
      ]
     },
     "execution_count": 123,
     "metadata": {},
     "output_type": "execute_result"
    }
   ],
   "source": [
    "[os.path.basename(x) for x in data_file_list]"
   ]
  },
  {
   "cell_type": "markdown",
   "metadata": {},
   "source": [
    "### NumPy\n",
    "NumPy is the fundamental package for scientific computing with Python."
   ]
  },
  {
   "cell_type": "code",
   "execution_count": 124,
   "metadata": {},
   "outputs": [],
   "source": [
    "import numpy as np"
   ]
  },
  {
   "cell_type": "markdown",
   "metadata": {},
   "source": [
    "NumPy’s main object is the homogeneous multidimensional array. It is a table of elements (usually numbers), all of the same type, indexed by a tuple of non-negative integers. In NumPy dimensions are called axes.\n",
    "\n",
    "NumPy’s array class is called `ndarray`. It is also known by the alias `array`. The more important attributes of an ndarray object are:\n",
    "\n",
    "- **ndarray.ndim**: the number of axes (dimensions) of the array.\n",
    "- **ndarray.shape**: the dimensions of the array. This is a tuple of integers indicating the size of the array in each dimension. For a matrix with n rows and m columns, shape will be `(n,m)`. The length of the `shape` tuple is therefore the number of axes, `ndim`.\n",
    "- **ndarray.size**: the total number of elements of the array. This is equal to the product of the elements of `shape`.\n",
    "- **ndarray.dtype**: an object describing the type of the elements in the array. One can create or specify dtype’s using standard Python types. Additionally NumPy provides types of its own. numpy.int32, numpy.int16, and numpy.float64 are some examples.\n",
    "- **ndarray.itemsize**: the size in bytes of each element of the array. For example, an array of elements of type `float64` has `itemsize` 8 (=64/8), while one of type `complex32` has `itemsize` 4 (=32/8). It is equivalent to `ndarray.dtype.itemsize`.\n",
    "- **ndarray.data**: the buffer containing the actual elements of the array. Normally, we won’t need to use this attribute because we will access the elements in an array using indexing facilities. "
   ]
  },
  {
   "cell_type": "code",
   "execution_count": 125,
   "metadata": {},
   "outputs": [
    {
     "data": {
      "text/plain": [
       "array([ 0,  1,  2,  3,  4,  5,  6,  7,  8,  9, 10, 11, 12, 13, 14])"
      ]
     },
     "execution_count": 125,
     "metadata": {},
     "output_type": "execute_result"
    }
   ],
   "source": [
    "a = np.arange(15) #array of numbers 0 to 14\n",
    "a"
   ]
  },
  {
   "cell_type": "code",
   "execution_count": 126,
   "metadata": {},
   "outputs": [
    {
     "data": {
      "text/plain": [
       "dtype('int32')"
      ]
     },
     "execution_count": 126,
     "metadata": {},
     "output_type": "execute_result"
    }
   ],
   "source": [
    "a.dtype"
   ]
  },
  {
   "cell_type": "code",
   "execution_count": 128,
   "metadata": {},
   "outputs": [
    {
     "name": "stdout",
     "output_type": "stream",
     "text": [
      "[ 0  1  2  3  4  5  6  7  8  9 10 11 12 13 14]\n"
     ]
    }
   ],
   "source": [
    "print(a)"
   ]
  },
  {
   "cell_type": "code",
   "execution_count": 130,
   "metadata": {},
   "outputs": [
    {
     "name": "stdout",
     "output_type": "stream",
     "text": [
      "(15,)\n"
     ]
    }
   ],
   "source": [
    "print(a.shape)"
   ]
  },
  {
   "cell_type": "code",
   "execution_count": 131,
   "metadata": {},
   "outputs": [
    {
     "name": "stdout",
     "output_type": "stream",
     "text": [
      "1\n"
     ]
    }
   ],
   "source": [
    "print(a.ndim)"
   ]
  },
  {
   "cell_type": "code",
   "execution_count": 132,
   "metadata": {},
   "outputs": [
    {
     "name": "stdout",
     "output_type": "stream",
     "text": [
      "int32\n"
     ]
    }
   ],
   "source": [
    "print(a.dtype.name)"
   ]
  },
  {
   "cell_type": "code",
   "execution_count": 133,
   "metadata": {},
   "outputs": [
    {
     "name": "stdout",
     "output_type": "stream",
     "text": [
      "4\n"
     ]
    }
   ],
   "source": [
    "print(a.itemsize)"
   ]
  },
  {
   "cell_type": "code",
   "execution_count": 135,
   "metadata": {},
   "outputs": [
    {
     "name": "stdout",
     "output_type": "stream",
     "text": [
      "15\n"
     ]
    }
   ],
   "source": [
    "print(a.size)"
   ]
  },
  {
   "cell_type": "code",
   "execution_count": 136,
   "metadata": {},
   "outputs": [
    {
     "name": "stdout",
     "output_type": "stream",
     "text": [
      "<class 'numpy.ndarray'>\n"
     ]
    }
   ],
   "source": [
    "print(type(a))"
   ]
  },
  {
   "cell_type": "markdown",
   "metadata": {},
   "source": [
    "#### Creating arrays\n",
    "You can create an array from a regular Python list or tuple using the array function. The type of the resulting array is deduced from the type of the elements in the sequences.\n",
    "\n",
    "A frequent error consists in calling array with multiple numeric arguments, rather than providing a single list of numbers as an argument.\n",
    "```\n",
    "a = np.array(1,2,3,4)    # WRONG\n",
    "a = np.array([1,2,3,4])  # RIGHT\n",
    "```"
   ]
  },
  {
   "cell_type": "code",
   "execution_count": 138,
   "metadata": {},
   "outputs": [
    {
     "name": "stdout",
     "output_type": "stream",
     "text": [
      "[6 7 8]\n"
     ]
    }
   ],
   "source": [
    "b = np.array([6, 7, 8])\n",
    "print(b)"
   ]
  },
  {
   "cell_type": "code",
   "execution_count": 139,
   "metadata": {},
   "outputs": [
    {
     "name": "stdout",
     "output_type": "stream",
     "text": [
      "<class 'numpy.ndarray'>\n"
     ]
    }
   ],
   "source": [
    "print(type(b))"
   ]
  },
  {
   "cell_type": "markdown",
   "metadata": {},
   "source": [
    "`array` transforms sequences of sequences into two-dimensional arrays, sequences of sequences of sequences into three-dimensional arrays, and so on."
   ]
  },
  {
   "cell_type": "code",
   "execution_count": 140,
   "metadata": {},
   "outputs": [
    {
     "name": "stdout",
     "output_type": "stream",
     "text": [
      "[[1.5 2.  3. ]\n",
      " [4.  5.  6. ]\n",
      " [7.1 7.2 7.3]]\n"
     ]
    }
   ],
   "source": [
    "c = np.array([(1.5, 2 ,3), (4, 5, 6), (7.1, 7.2, 7.3)])\n",
    "print(c)"
   ]
  },
  {
   "cell_type": "code",
   "execution_count": 141,
   "metadata": {},
   "outputs": [
    {
     "name": "stdout",
     "output_type": "stream",
     "text": [
      "(3, 3)\n"
     ]
    }
   ],
   "source": [
    "print(c.shape)"
   ]
  },
  {
   "cell_type": "markdown",
   "metadata": {},
   "source": [
    "The function `zeros` creates an array full of zeros, the function `ones` creates an array full of ones, the function `random.rand` creates an array of random floats from a uniform distribution over [0, 1], and the function `empty` creates an array whose initial content is random and depends on the state of the memory. By default, the dtype of the created array is `float64`."
   ]
  },
  {
   "cell_type": "code",
   "execution_count": 142,
   "metadata": {},
   "outputs": [
    {
     "data": {
      "text/plain": [
       "array([[0., 0., 0., 0.],\n",
       "       [0., 0., 0., 0.],\n",
       "       [0., 0., 0., 0.]])"
      ]
     },
     "execution_count": 142,
     "metadata": {},
     "output_type": "execute_result"
    }
   ],
   "source": [
    "np.zeros((3,4))"
   ]
  },
  {
   "cell_type": "code",
   "execution_count": 144,
   "metadata": {},
   "outputs": [
    {
     "name": "stdout",
     "output_type": "stream",
     "text": [
      "[[[1 1 1 1]\n",
      "  [1 1 1 1]\n",
      "  [1 1 1 1]]\n",
      "\n",
      " [[1 1 1 1]\n",
      "  [1 1 1 1]\n",
      "  [1 1 1 1]]]\n"
     ]
    }
   ],
   "source": [
    "test = np.ones((2,3,4), dtype=np.int16)\n",
    "print(test)"
   ]
  },
  {
   "cell_type": "code",
   "execution_count": 145,
   "metadata": {},
   "outputs": [
    {
     "data": {
      "text/plain": [
       "array([[0.99105673, 0.67672838],\n",
       "       [0.33379142, 0.99923762],\n",
       "       [0.35823752, 0.27046959]])"
      ]
     },
     "execution_count": 145,
     "metadata": {},
     "output_type": "execute_result"
    }
   ],
   "source": [
    "np.random.rand(3,2)"
   ]
  },
  {
   "cell_type": "code",
   "execution_count": 146,
   "metadata": {},
   "outputs": [
    {
     "data": {
      "text/plain": [
       "array([[0.99105673, 0.67672838, 0.33379142],\n",
       "       [0.99923762, 0.35823752, 0.27046959]])"
      ]
     },
     "execution_count": 146,
     "metadata": {},
     "output_type": "execute_result"
    }
   ],
   "source": [
    "np.empty((2,3)) # uninitialized, output may vary"
   ]
  },
  {
   "cell_type": "markdown",
   "metadata": {},
   "source": [
    "To create sequences of numbers, NumPy provides a function analogous to `range` that returns arrays instead of lists."
   ]
  },
  {
   "cell_type": "code",
   "execution_count": 147,
   "metadata": {},
   "outputs": [
    {
     "data": {
      "text/plain": [
       "array([10, 15, 20, 25])"
      ]
     },
     "execution_count": 147,
     "metadata": {},
     "output_type": "execute_result"
    }
   ],
   "source": [
    "np.arange( 10, 30, 5 ) # array from 10 to 30 in increments of 5"
   ]
  },
  {
   "cell_type": "markdown",
   "metadata": {},
   "source": [
    "#### Shape Manipulation\n",
    "\n",
    "Three main functions include:\n",
    "- `ravel()` flattens an array\n",
    "- `reshape()` changes the shape of arrays\n",
    "- `transpose()` transposes the array"
   ]
  },
  {
   "cell_type": "code",
   "execution_count": 156,
   "metadata": {},
   "outputs": [
    {
     "name": "stdout",
     "output_type": "stream",
     "text": [
      "[[0.63652936 0.91108542 0.88136503 0.17458185]\n",
      " [0.91696541 0.5524758  0.72716214 0.05531587]\n",
      " [0.41208999 0.86274726 0.30284602 0.30724036]\n",
      " [0.50943808 0.23705425 0.73600765 0.76601259]]\n"
     ]
    }
   ],
   "source": [
    "example = np.random.rand(4,4)\n",
    "print(example)"
   ]
  },
  {
   "cell_type": "code",
   "execution_count": 157,
   "metadata": {},
   "outputs": [
    {
     "data": {
      "text/plain": [
       "array([[6.3652936 , 9.11085418, 8.81365033, 1.74581852],\n",
       "       [9.16965407, 5.52475797, 7.2716214 , 0.55315867],\n",
       "       [4.12089992, 8.6274726 , 3.02846015, 3.07240357],\n",
       "       [5.09438076, 2.37054245, 7.36007651, 7.66012587]])"
      ]
     },
     "execution_count": 157,
     "metadata": {},
     "output_type": "execute_result"
    }
   ],
   "source": [
    "example*10"
   ]
  },
  {
   "cell_type": "code",
   "execution_count": 158,
   "metadata": {},
   "outputs": [
    {
     "name": "stdout",
     "output_type": "stream",
     "text": [
      "[0.63652936 0.91108542 0.88136503 0.17458185 0.91696541 0.5524758\n",
      " 0.72716214 0.05531587 0.41208999 0.86274726 0.30284602 0.30724036\n",
      " 0.50943808 0.23705425 0.73600765 0.76601259]\n"
     ]
    }
   ],
   "source": [
    "example_flat = example.ravel()  # returns the array, flattened\n",
    "print(example_flat)"
   ]
  },
  {
   "cell_type": "code",
   "execution_count": 159,
   "metadata": {},
   "outputs": [
    {
     "data": {
      "text/plain": [
       "array([[0.63652936, 0.91108542, 0.88136503, 0.17458185, 0.91696541,\n",
       "        0.5524758 , 0.72716214, 0.05531587],\n",
       "       [0.41208999, 0.86274726, 0.30284602, 0.30724036, 0.50943808,\n",
       "        0.23705425, 0.73600765, 0.76601259]])"
      ]
     },
     "execution_count": 159,
     "metadata": {},
     "output_type": "execute_result"
    }
   ],
   "source": [
    "example_flat.reshape(2,8) # returns the array with a modified shape 2x8"
   ]
  },
  {
   "cell_type": "code",
   "execution_count": 160,
   "metadata": {},
   "outputs": [
    {
     "data": {
      "text/plain": [
       "array([[0.63652936, 0.91108542, 0.88136503, 0.17458185],\n",
       "       [0.91696541, 0.5524758 , 0.72716214, 0.05531587],\n",
       "       [0.41208999, 0.86274726, 0.30284602, 0.30724036],\n",
       "       [0.50943808, 0.23705425, 0.73600765, 0.76601259]])"
      ]
     },
     "execution_count": 160,
     "metadata": {},
     "output_type": "execute_result"
    }
   ],
   "source": [
    "example_flat.reshape(4,4) # returns the array back to original shape"
   ]
  },
  {
   "cell_type": "code",
   "execution_count": 163,
   "metadata": {},
   "outputs": [
    {
     "name": "stdout",
     "output_type": "stream",
     "text": [
      "[[[0.18310661 0.06451276 0.43134906 0.21220408 0.13289117 0.58633727]\n",
      "  [0.71953334 0.2694753  0.47680156 0.82414732 0.14681196 0.33236698]\n",
      "  [0.61387171 0.74047294 0.04310225 0.00517075 0.083873   0.51228514]]\n",
      "\n",
      " [[0.56767031 0.41802085 0.17873975 0.56615309 0.2607051  0.91929438]\n",
      "  [0.22690119 0.08880335 0.74962796 0.99303625 0.3100538  0.14675746]\n",
      "  [0.90596438 0.40993878 0.15537499 0.31395431 0.02081494 0.41139261]]]\n"
     ]
    }
   ],
   "source": [
    "test = np.random.rand(2,3,6)\n",
    "print(test)"
   ]
  },
  {
   "cell_type": "code",
   "execution_count": 164,
   "metadata": {},
   "outputs": [
    {
     "name": "stdout",
     "output_type": "stream",
     "text": [
      "[0.18310661 0.06451276 0.43134906 0.21220408 0.13289117 0.58633727\n",
      " 0.71953334 0.2694753  0.47680156 0.82414732 0.14681196 0.33236698\n",
      " 0.61387171 0.74047294 0.04310225 0.00517075 0.083873   0.51228514\n",
      " 0.56767031 0.41802085 0.17873975 0.56615309 0.2607051  0.91929438\n",
      " 0.22690119 0.08880335 0.74962796 0.99303625 0.3100538  0.14675746\n",
      " 0.90596438 0.40993878 0.15537499 0.31395431 0.02081494 0.41139261]\n"
     ]
    }
   ],
   "source": [
    "print(test.ravel())"
   ]
  },
  {
   "cell_type": "code",
   "execution_count": 165,
   "metadata": {},
   "outputs": [
    {
     "name": "stdout",
     "output_type": "stream",
     "text": [
      "[[0.63652936 0.91696541 0.41208999 0.50943808]\n",
      " [0.91108542 0.5524758  0.86274726 0.23705425]\n",
      " [0.88136503 0.72716214 0.30284602 0.73600765]\n",
      " [0.17458185 0.05531587 0.30724036 0.76601259]]\n"
     ]
    }
   ],
   "source": [
    "print(example.transpose())"
   ]
  },
  {
   "cell_type": "markdown",
   "metadata": {},
   "source": [
    "## \"The Zen of Python\"\n",
    "*from [Whirlwind Tour of Python](https://github.com/jakevdp/WhirlwindTourOfPython/blob/master/00-Introduction.ipynb)*\n",
    "\n",
    "\"Python aficionados are often quick to point out how \"intuitive\", \"beautiful\", or \"fun\" Python is. While I tend to agree, I also recognize that beauty, intuition, and fun often go hand in hand with familiarity, and so for those familiar with other languages such florid sentiments can come across as a bit smug. Nevertheless, I hope that if you give Python a chance, you'll see where such impressions might come from. And if you really want to dig into the programming philosophy that drives much of the coding practice of Python power-users, a nice little Easter egg exists in the Python interpreter: simply close your eyes, meditate for a few minutes, and `import this`\""
   ]
  },
  {
   "cell_type": "code",
   "execution_count": 55,
   "metadata": {},
   "outputs": [
    {
     "name": "stdout",
     "output_type": "stream",
     "text": [
      "The Zen of Python, by Tim Peters\n",
      "\n",
      "Beautiful is better than ugly.\n",
      "Explicit is better than implicit.\n",
      "Simple is better than complex.\n",
      "Complex is better than complicated.\n",
      "Flat is better than nested.\n",
      "Sparse is better than dense.\n",
      "Readability counts.\n",
      "Special cases aren't special enough to break the rules.\n",
      "Although practicality beats purity.\n",
      "Errors should never pass silently.\n",
      "Unless explicitly silenced.\n",
      "In the face of ambiguity, refuse the temptation to guess.\n",
      "There should be one-- and preferably only one --obvious way to do it.\n",
      "Although that way may not be obvious at first unless you're Dutch.\n",
      "Now is better than never.\n",
      "Although never is often better than *right* now.\n",
      "If the implementation is hard to explain, it's a bad idea.\n",
      "If the implementation is easy to explain, it may be a good idea.\n",
      "Namespaces are one honking great idea -- let's do more of those!\n"
     ]
    }
   ],
   "source": [
    "import this"
   ]
  },
  {
   "cell_type": "code",
   "execution_count": null,
   "metadata": {},
   "outputs": [],
   "source": []
  }
 ],
 "metadata": {
  "kernelspec": {
   "display_name": "Python 3",
   "language": "python",
   "name": "python3"
  },
  "language_info": {
   "codemirror_mode": {
    "name": "ipython",
    "version": 3
   },
   "file_extension": ".py",
   "mimetype": "text/x-python",
   "name": "python",
   "nbconvert_exporter": "python",
   "pygments_lexer": "ipython3",
   "version": "3.8.3"
  }
 },
 "nbformat": 4,
 "nbformat_minor": 2
}

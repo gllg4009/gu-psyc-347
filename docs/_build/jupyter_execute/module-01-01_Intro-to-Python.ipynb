{
 "cells": [
  {
   "cell_type": "markdown",
   "metadata": {},
   "source": [
    "# Intro to Python Basics\n",
    "\n",
    "This tutorial has been adapted from the following resources on Jupyter Notebooks and Python:\n",
    "- Luke Chang's [DartBrains](https://dartbrains.org)\n",
    "- [NumPy Quickstart Tutorial](https://numpy.org/devdocs/user/quickstart.html)"
   ]
  },
  {
   "cell_type": "markdown",
   "metadata": {},
   "source": [
    "## Types of Variables\n",
    "- Numeric types:\n",
    "    - int, float, long, complex\n",
    "- string\n",
    "- boolean\n",
    "    - True / False\n",
    "    \n",
    "Python's simple types are summarized in the following table:\n",
    "\n",
    "**<center>Python Scalar Types</center>**\n",
    "\n",
    "| Type        | Example        | Description                                                  |\n",
    "|-------------|----------------|--------------------------------------------------------------|\n",
    "| ``int``     | ``x = 1``      | integers (i.e., whole numbers)                               |\n",
    "| ``float``   | ``x = 1.0``    | floating-point numbers (i.e., real numbers)                  |                  \n",
    "| ``complex`` | ``x = 1 + 2j`` | Complex numbers (i.e., numbers with real and imaginary part) |\n",
    "| ``bool``    | ``x = True``   | Boolean: True/False values                                   | \n",
    "| ``str``     | ``x = 'abc'``  | String: characters or text                                   | \n",
    "| ``NoneType``| ``x = None``   | Special object indicating nulls                              | \n",
    "\n",
    "Use the `type()` function to find the type for a value or variable"
   ]
  },
  {
   "cell_type": "code",
   "execution_count": 1,
   "metadata": {
    "execution": {
     "iopub.execute_input": "2020-08-28T15:53:23.265974Z",
     "iopub.status.busy": "2020-08-28T15:53:23.264974Z",
     "iopub.status.idle": "2020-08-28T15:53:23.274964Z",
     "shell.execute_reply": "2020-08-28T15:53:23.275964Z"
    }
   },
   "outputs": [
    {
     "name": "stdout",
     "output_type": "stream",
     "text": [
      "<class 'int'>\n",
      "<class 'float'>\n",
      "<class 'str'>\n",
      "<class 'bool'>\n",
      "<class 'NoneType'>\n",
      "<class 'str'>\n"
     ]
    }
   ],
   "source": [
    "# Integer\n",
    "a = 1\n",
    "print(type(a))\n",
    "\n",
    "# Float\n",
    "b = 1.0\n",
    "print(type(b))\n",
    "\n",
    "# String\n",
    "c = 'hello'\n",
    "print(type(c))\n",
    "\n",
    "# Boolean\n",
    "d = True\n",
    "print(type(d))\n",
    "\n",
    "# None\n",
    "e = None\n",
    "print(type(e))\n",
    "\n",
    "# Cast integer to string\n",
    "print(type(str(a)))"
   ]
  },
  {
   "cell_type": "markdown",
   "metadata": {},
   "source": [
    "## Math Operators\n",
    "- +, -, *, and /\n",
    "- Exponentiation **\n",
    "- Modulo % (Remainder)"
   ]
  },
  {
   "cell_type": "code",
   "execution_count": 2,
   "metadata": {
    "execution": {
     "iopub.execute_input": "2020-08-28T15:53:23.278964Z",
     "iopub.status.busy": "2020-08-28T15:53:23.278964Z",
     "iopub.status.idle": "2020-08-28T15:53:23.291254Z",
     "shell.execute_reply": "2020-08-28T15:53:23.290254Z"
    }
   },
   "outputs": [
    {
     "name": "stdout",
     "output_type": "stream",
     "text": [
      "9\n",
      "4\n",
      "8\n",
      "16\n",
      "4\n",
      "0.4444444444444444\n"
     ]
    }
   ],
   "source": [
    "# Addition\n",
    "a = 2 + 7\n",
    "print(a)\n",
    "\n",
    "# Subtraction\n",
    "b = a - 5\n",
    "print(b)\n",
    "\n",
    "# Multiplication\n",
    "print(b*2)\n",
    "\n",
    "# Exponentiation\n",
    "print(b**2)\n",
    "\n",
    "# Modulo\n",
    "print(b%9)\n",
    "\n",
    "# Division\n",
    "print(b/9)"
   ]
  },
  {
   "cell_type": "markdown",
   "metadata": {},
   "source": [
    "## String Operators\n",
    "Some of the arithmetic operators also have meaning for strings. E.g. for string concatenation use + sign\n",
    "\n",
    "String repetition: Use * sign with a number of repetitions"
   ]
  },
  {
   "cell_type": "code",
   "execution_count": 3,
   "metadata": {
    "execution": {
     "iopub.execute_input": "2020-08-28T15:53:23.294254Z",
     "iopub.status.busy": "2020-08-28T15:53:23.294254Z",
     "iopub.status.idle": "2020-08-28T15:53:23.305257Z",
     "shell.execute_reply": "2020-08-28T15:53:23.306257Z"
    }
   },
   "outputs": [
    {
     "name": "stdout",
     "output_type": "stream",
     "text": [
      "HelloWorld\n",
      "Hello Hello Hello Hello Hello \n"
     ]
    }
   ],
   "source": [
    "# Combine string\n",
    "a = 'Hello'\n",
    "b = 'World'\n",
    "print(a + b)\n",
    "\n",
    "# Repeat String\n",
    "print(str(a+' ')*5)"
   ]
  },
  {
   "cell_type": "markdown",
   "metadata": {},
   "source": [
    "## Logical Operators\n",
    "\n",
    "Perform logical comparison and return Boolean value\n",
    "\n",
    "```\n",
    "x == y # x is equal to y\n",
    "x != y # x is not equal to y\n",
    "x > y # x is greater than y\n",
    "x < y # x is less than y\n",
    "x >= y # x is greater than or equal to y \n",
    "x <= y # x is less than or equal to y\n",
    "```"
   ]
  },
  {
   "cell_type": "code",
   "execution_count": 4,
   "metadata": {
    "execution": {
     "iopub.execute_input": "2020-08-28T15:53:23.310258Z",
     "iopub.status.busy": "2020-08-28T15:53:23.309258Z",
     "iopub.status.idle": "2020-08-28T15:53:23.321261Z",
     "shell.execute_reply": "2020-08-28T15:53:23.321261Z"
    }
   },
   "outputs": [
    {
     "name": "stdout",
     "output_type": "stream",
     "text": [
      "a==b: False\n",
      "a==c: False\n",
      "a!=b: True\n",
      "\n",
      "d < e: True\n"
     ]
    }
   ],
   "source": [
    "# Works for string\n",
    "a = 'hello'\n",
    "b = 'world'\n",
    "c = 'Hello'\n",
    "print(\"a==b: \" + str(a==b))\n",
    "print(\"a==c: \" + str(a==c))\n",
    "print(\"a!=b: \" + str(a!=b))\n",
    "print()\n",
    "\n",
    "# Works for numeric\n",
    "d = 5\n",
    "e = 8\n",
    "print(\"d < e: \" + str(d < e))"
   ]
  },
  {
   "cell_type": "markdown",
   "metadata": {},
   "source": [
    "## Conditional Logic (if…)\n",
    "\n",
    "Unlike most other languages, Python uses tab formatting rather than closing conditional statements (e.g., end)\n",
    "\n",
    "Syntax:\n",
    "```\n",
    "if condition: \n",
    "    do something\n",
    "```\n",
    "\n",
    "Implicit conversion of the value to bool() happens if condition is of a different type than bool, thus all of the following should work:\n",
    "```\n",
    "if condition:\n",
    "    do_something\n",
    "elif condition:\n",
    "    do_alternative1\n",
    "else:\n",
    "    do_otherwise # often reserved to report an error\n",
    "                 # after a long list of options\n",
    "    ```"
   ]
  },
  {
   "cell_type": "code",
   "execution_count": 5,
   "metadata": {
    "execution": {
     "iopub.execute_input": "2020-08-28T15:53:23.325261Z",
     "iopub.status.busy": "2020-08-28T15:53:23.325261Z",
     "iopub.status.idle": "2020-08-28T15:53:23.336264Z",
     "shell.execute_reply": "2020-08-28T15:53:23.337264Z"
    }
   },
   "outputs": [
    {
     "name": "stdout",
     "output_type": "stream",
     "text": [
      "n is non-0\n",
      "n is not string\n"
     ]
    }
   ],
   "source": [
    "n = 2\n",
    "\n",
    "if n:\n",
    "    print(\"n is non-0\") #note spacing\n",
    "\n",
    "if n is None:\n",
    "    print(\"n is None\")\n",
    "    \n",
    "if n is not str:\n",
    "    print(\"n is not string\")"
   ]
  },
  {
   "cell_type": "markdown",
   "metadata": {},
   "source": [
    "## Loops\n",
    "**for** loop is probably the most popular loop construct in Python:\n",
    "```\n",
    "for target in sequence:\n",
    "    do_statements\n",
    "```"
   ]
  },
  {
   "cell_type": "code",
   "execution_count": 6,
   "metadata": {
    "execution": {
     "iopub.execute_input": "2020-08-28T15:53:23.340265Z",
     "iopub.status.busy": "2020-08-28T15:53:23.340265Z",
     "iopub.status.idle": "2020-08-28T15:53:23.351268Z",
     "shell.execute_reply": "2020-08-28T15:53:23.352268Z"
    },
    "scrolled": true
   },
   "outputs": [
    {
     "name": "stdout",
     "output_type": "stream",
     "text": [
      "P\n",
      "y\n",
      "t\n",
      "h\n",
      "o\n",
      "n\n",
      " \n",
      "i\n",
      "s\n",
      " \n",
      "g\n",
      "o\n",
      "i\n",
      "n\n",
      "g\n",
      " \n",
      "t\n",
      "o\n",
      " \n",
      "m\n",
      "a\n",
      "k\n",
      "e\n",
      " \n",
      "c\n",
      "o\n",
      "n\n",
      "d\n",
      "u\n",
      "c\n",
      "t\n",
      "i\n",
      "n\n",
      "g\n",
      " \n",
      "r\n",
      "e\n",
      "s\n",
      "e\n",
      "a\n",
      "r\n",
      "c\n",
      "h\n",
      " \n",
      "e\n",
      "a\n",
      "s\n",
      "i\n",
      "e\n",
      "r\n"
     ]
    }
   ],
   "source": [
    "string = \"Python is going to make conducting research easier\"\n",
    "for c in string:\n",
    "    print(c)"
   ]
  },
  {
   "cell_type": "code",
   "execution_count": 7,
   "metadata": {
    "execution": {
     "iopub.execute_input": "2020-08-28T15:53:23.355268Z",
     "iopub.status.busy": "2020-08-28T15:53:23.354268Z",
     "iopub.status.idle": "2020-08-28T15:53:23.366272Z",
     "shell.execute_reply": "2020-08-28T15:53:23.367271Z"
    }
   },
   "outputs": [
    {
     "name": "stdout",
     "output_type": "stream",
     "text": [
      "1\n",
      "2\n",
      "3\n",
      "4\n",
      "5\n"
     ]
    }
   ],
   "source": [
    "for i in [1,2,3,4,5]:\n",
    "    print(i)"
   ]
  },
  {
   "cell_type": "markdown",
   "metadata": {},
   "source": [
    "It’s also possible to use a **while** loop to repeat statements while condition remains True:\n",
    "```\n",
    "while condition do:\n",
    "    do_statements\n",
    "```"
   ]
  },
  {
   "cell_type": "code",
   "execution_count": 8,
   "metadata": {
    "execution": {
     "iopub.execute_input": "2020-08-28T15:53:23.370272Z",
     "iopub.status.busy": "2020-08-28T15:53:23.370272Z",
     "iopub.status.idle": "2020-08-28T15:53:23.382275Z",
     "shell.execute_reply": "2020-08-28T15:53:23.383275Z"
    }
   },
   "outputs": [
    {
     "name": "stdout",
     "output_type": "stream",
     "text": [
      "0 0\n",
      "1 1\n",
      "2 3\n",
      "3 6\n",
      "4 10\n",
      "5 15\n",
      "6 21\n",
      "7 28\n",
      "8 36\n",
      "9 45\n",
      "Exited with x==10\n"
     ]
    }
   ],
   "source": [
    "x = 0\n",
    "end = 10\n",
    "\n",
    "csum = 0\n",
    "while x < end:\n",
    "    csum += x\n",
    "    print(x, csum)\n",
    "    x += 1\n",
    "print(\"Exited with x==%d\" % x )"
   ]
  },
  {
   "cell_type": "markdown",
   "metadata": {},
   "source": [
    "## Functions\n",
    "\n",
    "A **function** is a named sequence of statements that performs a computation. You define the function by giving it a name, specify a sequence of statements, and optionally values to return. Later, you can “call” the function by name."
   ]
  },
  {
   "cell_type": "code",
   "execution_count": 9,
   "metadata": {
    "execution": {
     "iopub.execute_input": "2020-08-28T15:53:23.386276Z",
     "iopub.status.busy": "2020-08-28T15:53:23.385275Z",
     "iopub.status.idle": "2020-08-28T15:53:23.398278Z",
     "shell.execute_reply": "2020-08-28T15:53:23.399278Z"
    }
   },
   "outputs": [],
   "source": [
    "def make_upper_case(text):\n",
    "    return (text.upper())"
   ]
  },
  {
   "cell_type": "markdown",
   "metadata": {},
   "source": [
    "- The expression in the parenthesis is the **argument**.\n",
    "- It is common to say that a function **\"takes\" an argument** and **\"returns\" a result**.\n",
    "- The result is called the **return value**.\n",
    "\n",
    "The first line of the function definition is called the header; the rest is called the body.\n",
    "\n",
    "The header has to end with a colon and the body has to be indented. It is a common practice to use 4 spaces for indentation, and to avoid mixing with tabs.\n",
    "\n",
    "Function body in Python ends whenever statement begins at the original level of indentation. There is no end or fed or any other identify to signal the end of function. Indentation is part of the the language syntax in Python, making it more readable and less cluttered."
   ]
  },
  {
   "cell_type": "code",
   "execution_count": 10,
   "metadata": {
    "execution": {
     "iopub.execute_input": "2020-08-28T15:53:23.402279Z",
     "iopub.status.busy": "2020-08-28T15:53:23.401278Z",
     "iopub.status.idle": "2020-08-28T15:53:23.414282Z",
     "shell.execute_reply": "2020-08-28T15:53:23.414282Z"
    }
   },
   "outputs": [
    {
     "name": "stdout",
     "output_type": "stream",
     "text": [
      "PYTHON IS GOING TO MAKE CONDUCTING RESEARCH EASIER\n"
     ]
    }
   ],
   "source": [
    "string = \"Python is going to make conducting research easier\"\n",
    "string_upper = string.upper()\n",
    "print(string_upper)"
   ]
  },
  {
   "cell_type": "code",
   "execution_count": 11,
   "metadata": {
    "execution": {
     "iopub.execute_input": "2020-08-28T15:53:23.422284Z",
     "iopub.status.busy": "2020-08-28T15:53:23.421283Z",
     "iopub.status.idle": "2020-08-28T15:53:23.428286Z",
     "shell.execute_reply": "2020-08-28T15:53:23.429285Z"
    }
   },
   "outputs": [
    {
     "data": {
      "text/plain": [
       "'PYTHON IS GOING TO MAKE CONDUCTING RESEARCH EASIER'"
      ]
     },
     "execution_count": 11,
     "metadata": {},
     "output_type": "execute_result"
    }
   ],
   "source": [
    "make_upper_case(string)"
   ]
  },
  {
   "cell_type": "markdown",
   "metadata": {},
   "source": [
    "## Python Containers\n",
    "\n",
    "There are 4 main types of builtin containers for storing data in Python:\n",
    "- list $\\checkmark$\n",
    "- dict $\\checkmark$\n",
    "- set\n",
    "- tuple"
   ]
  },
  {
   "cell_type": "markdown",
   "metadata": {},
   "source": [
    "### Lists\n",
    "In Python, a list is a mutable sequence of values. Mutable means that we can change separate entries within a list. \n",
    "- Each value in the list is an element or item\n",
    "- Elements can be any Python data type\n",
    "- Lists can mix data types\n",
    "\n",
    "- Lists are initialized with [] or list()\n",
    "```\n",
    "l = [1,2,3]\n",
    "```\n",
    "\n",
    "- Elements within a list are indexed (starting with 0)\n",
    "```\n",
    "l[0]\n",
    "```\n",
    "\n",
    "- Elements can be nested lists\n",
    "```\n",
    "nested = [[1, 2, 3], [4, 5, 6], [7, 8, 9]]\n",
    "```\n",
    "\n",
    "- Lists can be sliced.\n",
    "```\n",
    "l[start:stop:stride]\n",
    "```\n",
    "\n",
    "- Like all python containers, lists have many useful methods that can be applied\n",
    "```\n",
    "a.insert(index,new element)\n",
    "a.append(element to add at end)\n",
    "len(a)\n",
    "```\n",
    "\n",
    "- List comprehension is a very powerful technique allowing for efficient construction of new lists.\n",
    "```\n",
    "[a for a in l]\n",
    "```"
   ]
  },
  {
   "cell_type": "code",
   "execution_count": 12,
   "metadata": {
    "execution": {
     "iopub.execute_input": "2020-08-28T15:53:23.432287Z",
     "iopub.status.busy": "2020-08-28T15:53:23.431286Z",
     "iopub.status.idle": "2020-08-28T15:53:23.443288Z",
     "shell.execute_reply": "2020-08-28T15:53:23.444289Z"
    }
   },
   "outputs": [
    {
     "data": {
      "text/plain": [
       "[1, 2, 3]"
      ]
     },
     "execution_count": 12,
     "metadata": {},
     "output_type": "execute_result"
    }
   ],
   "source": [
    "list = [1,2,3]\n",
    "list"
   ]
  },
  {
   "cell_type": "code",
   "execution_count": 13,
   "metadata": {
    "execution": {
     "iopub.execute_input": "2020-08-28T15:53:23.446289Z",
     "iopub.status.busy": "2020-08-28T15:53:23.446289Z",
     "iopub.status.idle": "2020-08-28T15:53:23.458291Z",
     "shell.execute_reply": "2020-08-28T15:53:23.459293Z"
    }
   },
   "outputs": [],
   "source": [
    "list_str = ['hello', 'bye', 'hi']"
   ]
  },
  {
   "cell_type": "code",
   "execution_count": 14,
   "metadata": {
    "execution": {
     "iopub.execute_input": "2020-08-28T15:53:23.462292Z",
     "iopub.status.busy": "2020-08-28T15:53:23.461292Z",
     "iopub.status.idle": "2020-08-28T15:53:23.474296Z",
     "shell.execute_reply": "2020-08-28T15:53:23.475295Z"
    }
   },
   "outputs": [
    {
     "data": {
      "text/plain": [
       "['HELLO', 'BYE', 'HI']"
      ]
     },
     "execution_count": 14,
     "metadata": {},
     "output_type": "execute_result"
    }
   ],
   "source": [
    "[i.upper() for i in list_str]"
   ]
  },
  {
   "cell_type": "code",
   "execution_count": 15,
   "metadata": {
    "execution": {
     "iopub.execute_input": "2020-08-28T15:53:23.478297Z",
     "iopub.status.busy": "2020-08-28T15:53:23.477296Z",
     "iopub.status.idle": "2020-08-28T15:53:23.490299Z",
     "shell.execute_reply": "2020-08-28T15:53:23.491300Z"
    }
   },
   "outputs": [
    {
     "data": {
      "text/plain": [
       "[9, 18, 27]"
      ]
     },
     "execution_count": 15,
     "metadata": {},
     "output_type": "execute_result"
    }
   ],
   "source": [
    "[index*9 for index in list]"
   ]
  },
  {
   "cell_type": "code",
   "execution_count": 16,
   "metadata": {
    "execution": {
     "iopub.execute_input": "2020-08-28T15:53:23.495301Z",
     "iopub.status.busy": "2020-08-28T15:53:23.494300Z",
     "iopub.status.idle": "2020-08-28T15:53:23.506303Z",
     "shell.execute_reply": "2020-08-28T15:53:23.506303Z"
    }
   },
   "outputs": [
    {
     "name": "stdout",
     "output_type": "stream",
     "text": [
      "lists\n",
      "['are', 'arrays']\n",
      "['lists', 'are', 'python', 'arrays', '.']\n",
      "5\n",
      "['LISTS', 'ARE', 'PYTHON', 'ARRAYS', '.']\n"
     ]
    }
   ],
   "source": [
    "# Indexing and Slicing\n",
    "a = ['lists','are','arrays']\n",
    "print(a[0])\n",
    "print(a[1:3])\n",
    "\n",
    "# List methods\n",
    "a.insert(2,'python')\n",
    "a.append('.')\n",
    "print(a)\n",
    "print(len(a))\n",
    "\n",
    "# List Comprehension\n",
    "print([x.upper() for x in a])"
   ]
  },
  {
   "cell_type": "code",
   "execution_count": 17,
   "metadata": {
    "execution": {
     "iopub.execute_input": "2020-08-28T15:53:23.510303Z",
     "iopub.status.busy": "2020-08-28T15:53:23.509303Z",
     "iopub.status.idle": "2020-08-28T15:53:23.522307Z",
     "shell.execute_reply": "2020-08-28T15:53:23.523307Z"
    }
   },
   "outputs": [
    {
     "data": {
      "text/plain": [
       "[1, 3, 5]"
      ]
     },
     "execution_count": 17,
     "metadata": {},
     "output_type": "execute_result"
    }
   ],
   "source": [
    "list = [1,2,3,4,5]\n",
    "list[0::2]"
   ]
  },
  {
   "cell_type": "markdown",
   "metadata": {},
   "source": [
    "### Dictionaries\n",
    "- In Python, a dictionary (or dict) is mapping between a set of indices (keys) and a set of values\n",
    "- The items in a dictionary are key-value pairs\n",
    "- Keys can be any Python data type\n",
    "- Dictionaries are unordered"
   ]
  },
  {
   "cell_type": "code",
   "execution_count": 18,
   "metadata": {
    "execution": {
     "iopub.execute_input": "2020-08-28T15:53:23.527308Z",
     "iopub.status.busy": "2020-08-28T15:53:23.526308Z",
     "iopub.status.idle": "2020-08-28T15:53:23.538311Z",
     "shell.execute_reply": "2020-08-28T15:53:23.539310Z"
    }
   },
   "outputs": [
    {
     "name": "stdout",
     "output_type": "stream",
     "text": [
      "{'one': 'uno'}\n",
      "\n",
      "{'one': 'uno', 'two': 'dos', 'three': 'tres'}\n",
      "\n",
      "dict_keys(['one', 'two', 'three'])\n",
      "dict_values(['uno', 'dos', 'tres'])\n"
     ]
    }
   ],
   "source": [
    "# Dictionaries\n",
    "eng2sp = {}\n",
    "eng2sp['one'] = 'uno'\n",
    "print(eng2sp)\n",
    "print()\n",
    "\n",
    "eng2sp = {'one': 'uno', 'two': 'dos', 'three': 'tres'}\n",
    "print(eng2sp)\n",
    "print()\n",
    "\n",
    "print(eng2sp.keys())\n",
    "print(eng2sp.values())"
   ]
  },
  {
   "cell_type": "markdown",
   "metadata": {},
   "source": [
    "## Classes\n",
    "*(from: https://realpython.com/python3-object-oriented-programming/)*\n",
    "\n",
    "\"The primitive data structures available in Python, like numbers, strings, and lists are designed to represent simple things like the cost of something, the name of a poem, and your favorite colors, respectively.\n",
    "\n",
    "What if you wanted to represent something much more complicated?\n",
    "\n",
    "For example, let’s say you wanted to track a number of different animals. If you used a list, the first element could be the animal’s name while the second element could represent its age.\n",
    "\n",
    "How would you know which element is supposed to be which? What if you had 100 different animals? Are you certain each animal has both a name and an age, and so forth? What if you wanted to add other properties to these animals? This lacks organization, and it’s the exact need for classes.\n",
    "\n",
    "Classes are used to create new user-defined data structures that contain arbitrary information about something. In the case of an animal, we could create an Animal() class to track properties about the Animal like the name and age.\n",
    "\n",
    "It’s important to note that a class just provides structure—it’s a blueprint for how something should be defined, but it doesn’t actually provide any real content itself. The Animal() class may specify that the name and age are necessary for defining an animal, but it will not actually state what a specific animal’s name or age is.\n",
    "\n",
    "It may help to think of a class as an idea for how something should be defined.\"\n",
    "\n",
    "![img](https://cdn-media-1.freecodecamp.org/images/M4t8zW9U71xeKSlzT2o8WO47mdzrWkNa4rWv)\n"
   ]
  },
  {
   "cell_type": "code",
   "execution_count": 19,
   "metadata": {
    "execution": {
     "iopub.execute_input": "2020-08-28T15:53:23.545313Z",
     "iopub.status.busy": "2020-08-28T15:53:23.545313Z",
     "iopub.status.idle": "2020-08-28T15:53:23.553314Z",
     "shell.execute_reply": "2020-08-28T15:53:23.554313Z"
    }
   },
   "outputs": [],
   "source": [
    "# let's create a cat class\n",
    "class Cat:\n",
    "\n",
    "    # Class Attribute\n",
    "    species = 'mammal'\n",
    "\n",
    "    # Initializer / Instance Attributes\n",
    "    def __init__(self, name, age):\n",
    "        self.name = name\n",
    "        self.age = age\n",
    "        self.hungry = True\n",
    "        self.tired = True\n",
    "        self.mood = 5\n",
    "\n",
    "    # instance method\n",
    "    def description(self):\n",
    "        __name_age__ = \"{} is {} years old. \".format(self.name, self.age)\n",
    "        \n",
    "        if self.tired == True:\n",
    "            __is_tired__ = \"{} is tired. \".format(self.name)\n",
    "        else:\n",
    "            __is_tired__ = \"{} is not tired. \".format(self.name)\n",
    "        \n",
    "        if self.hungry == True:\n",
    "             __is_hungry__ = \"{} is hungry. \".format(self.name)\n",
    "        else:\n",
    "            __is_hungry__ = \"{} is not hungry. \".format(self.name)\n",
    "        \n",
    "        return str(__name_age__+__is_tired__+__is_hungry__)\n",
    "\n",
    "    # instance method\n",
    "    def meow(self):\n",
    "        return \"{} says {}\".format(self.name, \"Meow! Meow!\")\n",
    "    \n",
    "    def feed(self):\n",
    "        self.hungry = False\n",
    "        self.mood = self.mood + self.mood*.5\n",
    "        print(self.meow())\n",
    "        \n",
    "    def sleep(self):\n",
    "        self.tired = False\n",
    "    \n",
    "        "
   ]
  },
  {
   "cell_type": "code",
   "execution_count": 20,
   "metadata": {
    "execution": {
     "iopub.execute_input": "2020-08-28T15:53:23.557314Z",
     "iopub.status.busy": "2020-08-28T15:53:23.556314Z",
     "iopub.status.idle": "2020-08-28T15:53:23.570317Z",
     "shell.execute_reply": "2020-08-28T15:53:23.570317Z"
    }
   },
   "outputs": [],
   "source": [
    "# Instantiate the Cat object\n",
    "kitty = Cat(\"Fat Cat\", 6)"
   ]
  },
  {
   "cell_type": "code",
   "execution_count": 21,
   "metadata": {
    "execution": {
     "iopub.execute_input": "2020-08-28T15:53:23.573317Z",
     "iopub.status.busy": "2020-08-28T15:53:23.572317Z",
     "iopub.status.idle": "2020-08-28T15:53:23.585487Z",
     "shell.execute_reply": "2020-08-28T15:53:23.584485Z"
    }
   },
   "outputs": [
    {
     "name": "stdout",
     "output_type": "stream",
     "text": [
      "Fat Cat is 6 years old. Fat Cat is tired. Fat Cat is hungry. \n",
      "Fat Cat says Meow! Meow!\n"
     ]
    }
   ],
   "source": [
    "# call our instance methods\n",
    "print(kitty.description())\n",
    "print(kitty.meow())"
   ]
  },
  {
   "cell_type": "code",
   "execution_count": 22,
   "metadata": {
    "execution": {
     "iopub.execute_input": "2020-08-28T15:53:23.587487Z",
     "iopub.status.busy": "2020-08-28T15:53:23.587487Z",
     "iopub.status.idle": "2020-08-28T15:53:23.599490Z",
     "shell.execute_reply": "2020-08-28T15:53:23.600490Z"
    }
   },
   "outputs": [
    {
     "name": "stdout",
     "output_type": "stream",
     "text": [
      "5\n"
     ]
    }
   ],
   "source": [
    "print(kitty.mood)"
   ]
  },
  {
   "cell_type": "code",
   "execution_count": 23,
   "metadata": {
    "execution": {
     "iopub.execute_input": "2020-08-28T15:53:23.602490Z",
     "iopub.status.busy": "2020-08-28T15:53:23.602490Z",
     "iopub.status.idle": "2020-08-28T15:53:23.615493Z",
     "shell.execute_reply": "2020-08-28T15:53:23.615493Z"
    }
   },
   "outputs": [
    {
     "name": "stdout",
     "output_type": "stream",
     "text": [
      "Fat Cat says Meow! Meow!\n"
     ]
    }
   ],
   "source": [
    "kitty.feed()"
   ]
  },
  {
   "cell_type": "code",
   "execution_count": 24,
   "metadata": {
    "execution": {
     "iopub.execute_input": "2020-08-28T15:53:23.618493Z",
     "iopub.status.busy": "2020-08-28T15:53:23.618493Z",
     "iopub.status.idle": "2020-08-28T15:53:23.631497Z",
     "shell.execute_reply": "2020-08-28T15:53:23.631497Z"
    }
   },
   "outputs": [
    {
     "name": "stdout",
     "output_type": "stream",
     "text": [
      "Fat Cat is 6 years old. Fat Cat is tired. Fat Cat is not hungry. \n"
     ]
    }
   ],
   "source": [
    "print(kitty.description())"
   ]
  },
  {
   "cell_type": "code",
   "execution_count": 25,
   "metadata": {
    "execution": {
     "iopub.execute_input": "2020-08-28T15:53:23.634498Z",
     "iopub.status.busy": "2020-08-28T15:53:23.633497Z",
     "iopub.status.idle": "2020-08-28T15:53:23.646501Z",
     "shell.execute_reply": "2020-08-28T15:53:23.646501Z"
    }
   },
   "outputs": [
    {
     "name": "stdout",
     "output_type": "stream",
     "text": [
      "7.5\n"
     ]
    }
   ],
   "source": [
    "print(kitty.mood)"
   ]
  },
  {
   "cell_type": "code",
   "execution_count": 26,
   "metadata": {
    "execution": {
     "iopub.execute_input": "2020-08-28T15:53:23.649500Z",
     "iopub.status.busy": "2020-08-28T15:53:23.649500Z",
     "iopub.status.idle": "2020-08-28T15:53:23.662008Z",
     "shell.execute_reply": "2020-08-28T15:53:23.662008Z"
    }
   },
   "outputs": [],
   "source": [
    "kitty.sleep()"
   ]
  },
  {
   "cell_type": "code",
   "execution_count": 27,
   "metadata": {
    "execution": {
     "iopub.execute_input": "2020-08-28T15:53:23.665010Z",
     "iopub.status.busy": "2020-08-28T15:53:23.665010Z",
     "iopub.status.idle": "2020-08-28T15:53:23.677012Z",
     "shell.execute_reply": "2020-08-28T15:53:23.678012Z"
    }
   },
   "outputs": [
    {
     "name": "stdout",
     "output_type": "stream",
     "text": [
      "Fat Cat is 6 years old. Fat Cat is not tired. Fat Cat is not hungry. \n"
     ]
    }
   ],
   "source": [
    "print(kitty.description())"
   ]
  },
  {
   "cell_type": "code",
   "execution_count": 28,
   "metadata": {
    "execution": {
     "iopub.execute_input": "2020-08-28T15:53:23.680012Z",
     "iopub.status.busy": "2020-08-28T15:53:23.680012Z",
     "iopub.status.idle": "2020-08-28T15:53:23.693016Z",
     "shell.execute_reply": "2020-08-28T15:53:23.694015Z"
    }
   },
   "outputs": [
    {
     "data": {
      "text/plain": [
       "'Fat Cat says Meow! Meow!'"
      ]
     },
     "execution_count": 28,
     "metadata": {},
     "output_type": "execute_result"
    }
   ],
   "source": [
    "kitty.meow()"
   ]
  },
  {
   "cell_type": "code",
   "execution_count": 29,
   "metadata": {
    "execution": {
     "iopub.execute_input": "2020-08-28T15:53:23.696015Z",
     "iopub.status.busy": "2020-08-28T15:53:23.696015Z",
     "iopub.status.idle": "2020-08-28T15:53:23.709019Z",
     "shell.execute_reply": "2020-08-28T15:53:23.708019Z"
    }
   },
   "outputs": [],
   "source": [
    "kitty.name = 'Junaid'"
   ]
  },
  {
   "cell_type": "markdown",
   "metadata": {},
   "source": [
    "## Modules\n",
    "\n",
    "A Module is a python file that contains a collection of related definitions. Python has hundreds of standard modules. These are organized into what is known as the [Python Standard Library](http://docs.python.org/library/). You can also create and use your own modules. To use functionality from a module, you first have to import the entire module or parts of it into your namespace\n",
    "\n",
    "To import the entire module:\n",
    "`python import module_name`\n",
    "\n",
    "You can also import a module using a specific name:\n",
    "`python import module_name as new_module_name`\n",
    "\n",
    "To import specific definitions (e.g. functions, variables, etc) from the module into your local namespace:\n",
    "`from module_name import name1, name2`"
   ]
  },
  {
   "cell_type": "code",
   "execution_count": 30,
   "metadata": {
    "execution": {
     "iopub.execute_input": "2020-08-28T15:53:23.711019Z",
     "iopub.status.busy": "2020-08-28T15:53:23.711019Z",
     "iopub.status.idle": "2020-08-28T15:53:23.725023Z",
     "shell.execute_reply": "2020-08-28T15:53:23.725023Z"
    }
   },
   "outputs": [],
   "source": [
    "import os\n",
    "from glob import glob"
   ]
  },
  {
   "cell_type": "markdown",
   "metadata": {},
   "source": [
    "To get the curent directory, you can use: `os.path.abspath(os.path.curdir)`"
   ]
  },
  {
   "cell_type": "markdown",
   "metadata": {},
   "source": [
    "Let’s use glob, a pattern matching function, to list all of the ipynb files in the current folder."
   ]
  },
  {
   "cell_type": "code",
   "execution_count": 31,
   "metadata": {
    "execution": {
     "iopub.execute_input": "2020-08-28T15:53:23.728023Z",
     "iopub.status.busy": "2020-08-28T15:53:23.727023Z",
     "iopub.status.idle": "2020-08-28T15:53:23.739026Z",
     "shell.execute_reply": "2020-08-28T15:53:23.739026Z"
    }
   },
   "outputs": [
    {
     "name": "stdout",
     "output_type": "stream",
     "text": [
      "['.\\\\module-01-01_Intro-to-Python.ipynb', '.\\\\module-01-02_Modeling-Intro.ipynb', '.\\\\module-03-01_Two-Armed-Bandit.ipynb', '.\\\\module-04-01_Social-RLDM.ipynb', '.\\\\module-05-01_Bayes.ipynb', '.\\\\module-05-02_Belief-Updating.ipynb', '.\\\\module-05-03_Impression-Updating.ipynb', '.\\\\module-06-01_Drift-Diffusion.ipynb', '.\\\\module-07-01_Social-Drift-Diffusion.ipynb']\n"
     ]
    }
   ],
   "source": [
    "data_file_list = glob(os.path.join(os.path.curdir,'*ipynb'))\n",
    "print(data_file_list)"
   ]
  },
  {
   "cell_type": "markdown",
   "metadata": {},
   "source": [
    "This gives us a list of the files including the relative path from the current directory. What if we wanted just the filenames? There are several different ways to do this. First, we can use the the os.path.basename function. We loop over every file, grab the base file name and then append it to a new list."
   ]
  },
  {
   "cell_type": "code",
   "execution_count": 32,
   "metadata": {
    "execution": {
     "iopub.execute_input": "2020-08-28T15:53:23.743027Z",
     "iopub.status.busy": "2020-08-28T15:53:23.742027Z",
     "iopub.status.idle": "2020-08-28T15:53:23.754030Z",
     "shell.execute_reply": "2020-08-28T15:53:23.754030Z"
    }
   },
   "outputs": [
    {
     "name": "stdout",
     "output_type": "stream",
     "text": [
      "['module-01-01_Intro-to-Python.ipynb', 'module-01-02_Modeling-Intro.ipynb', 'module-03-01_Two-Armed-Bandit.ipynb', 'module-04-01_Social-RLDM.ipynb', 'module-05-01_Bayes.ipynb', 'module-05-02_Belief-Updating.ipynb', 'module-05-03_Impression-Updating.ipynb', 'module-06-01_Drift-Diffusion.ipynb', 'module-07-01_Social-Drift-Diffusion.ipynb']\n"
     ]
    }
   ],
   "source": [
    "file_list = []\n",
    "for f in data_file_list:\n",
    "    file_list.append(os.path.basename(f))\n",
    "\n",
    "print(file_list)"
   ]
  },
  {
   "cell_type": "markdown",
   "metadata": {},
   "source": [
    "It is also sometimes even cleaner to do this as a list comprehension"
   ]
  },
  {
   "cell_type": "code",
   "execution_count": 33,
   "metadata": {
    "execution": {
     "iopub.execute_input": "2020-08-28T15:53:23.758030Z",
     "iopub.status.busy": "2020-08-28T15:53:23.757029Z",
     "iopub.status.idle": "2020-08-28T15:53:23.769033Z",
     "shell.execute_reply": "2020-08-28T15:53:23.770032Z"
    }
   },
   "outputs": [
    {
     "data": {
      "text/plain": [
       "['module-01-01_Intro-to-Python.ipynb',\n",
       " 'module-01-02_Modeling-Intro.ipynb',\n",
       " 'module-03-01_Two-Armed-Bandit.ipynb',\n",
       " 'module-04-01_Social-RLDM.ipynb',\n",
       " 'module-05-01_Bayes.ipynb',\n",
       " 'module-05-02_Belief-Updating.ipynb',\n",
       " 'module-05-03_Impression-Updating.ipynb',\n",
       " 'module-06-01_Drift-Diffusion.ipynb',\n",
       " 'module-07-01_Social-Drift-Diffusion.ipynb']"
      ]
     },
     "execution_count": 33,
     "metadata": {},
     "output_type": "execute_result"
    }
   ],
   "source": [
    "[os.path.basename(x) for x in data_file_list]"
   ]
  },
  {
   "cell_type": "markdown",
   "metadata": {},
   "source": [
    "### NumPy\n",
    "NumPy is the fundamental package for scientific computing with Python."
   ]
  },
  {
   "cell_type": "code",
   "execution_count": 34,
   "metadata": {
    "execution": {
     "iopub.execute_input": "2020-08-28T15:53:23.772033Z",
     "iopub.status.busy": "2020-08-28T15:53:23.772033Z",
     "iopub.status.idle": "2020-08-28T15:53:23.862054Z",
     "shell.execute_reply": "2020-08-28T15:53:23.863054Z"
    }
   },
   "outputs": [],
   "source": [
    "import numpy as Junaid"
   ]
  },
  {
   "cell_type": "markdown",
   "metadata": {},
   "source": [
    "NumPy’s main object is the homogeneous multidimensional array. It is a table of elements (usually numbers), all of the same type, indexed by a tuple of non-negative integers. In NumPy dimensions are called axes.\n",
    "\n",
    "NumPy’s array class is called `ndarray`. It is also known by the alias `array`. The more important attributes of an ndarray object are:\n",
    "\n",
    "- **ndarray.ndim**: the number of axes (dimensions) of the array.\n",
    "- **ndarray.shape**: the dimensions of the array. This is a tuple of integers indicating the size of the array in each dimension. For a matrix with n rows and m columns, shape will be `(n,m)`. The length of the `shape` tuple is therefore the number of axes, `ndim`.\n",
    "- **ndarray.size**: the total number of elements of the array. This is equal to the product of the elements of `shape`.\n",
    "- **ndarray.dtype**: an object describing the type of the elements in the array. One can create or specify dtype’s using standard Python types. Additionally NumPy provides types of its own. numpy.int32, numpy.int16, and numpy.float64 are some examples.\n",
    "- **ndarray.itemsize**: the size in bytes of each element of the array. For example, an array of elements of type `float64` has `itemsize` 8 (=64/8), while one of type `complex32` has `itemsize` 4 (=32/8). It is equivalent to `ndarray.dtype.itemsize`.\n",
    "- **ndarray.data**: the buffer containing the actual elements of the array. Normally, we won’t need to use this attribute because we will access the elements in an array using indexing facilities. "
   ]
  },
  {
   "cell_type": "code",
   "execution_count": 35,
   "metadata": {
    "execution": {
     "iopub.execute_input": "2020-08-28T15:53:23.866055Z",
     "iopub.status.busy": "2020-08-28T15:53:23.865055Z",
     "iopub.status.idle": "2020-08-28T15:53:23.877057Z",
     "shell.execute_reply": "2020-08-28T15:53:23.878058Z"
    }
   },
   "outputs": [
    {
     "data": {
      "text/plain": [
       "array([ 0,  1,  2,  3,  4,  5,  6,  7,  8,  9, 10, 11, 12, 13, 14])"
      ]
     },
     "execution_count": 35,
     "metadata": {},
     "output_type": "execute_result"
    }
   ],
   "source": [
    "a = Junaid.arange(15) #array of numbers 0 to 14\n",
    "a"
   ]
  },
  {
   "cell_type": "code",
   "execution_count": 36,
   "metadata": {
    "execution": {
     "iopub.execute_input": "2020-08-28T15:53:23.881058Z",
     "iopub.status.busy": "2020-08-28T15:53:23.880057Z",
     "iopub.status.idle": "2020-08-28T15:53:23.892060Z",
     "shell.execute_reply": "2020-08-28T15:53:23.892060Z"
    }
   },
   "outputs": [
    {
     "data": {
      "text/plain": [
       "dtype('int32')"
      ]
     },
     "execution_count": 36,
     "metadata": {},
     "output_type": "execute_result"
    }
   ],
   "source": [
    "a.dtype"
   ]
  },
  {
   "cell_type": "code",
   "execution_count": 37,
   "metadata": {
    "execution": {
     "iopub.execute_input": "2020-08-28T15:53:23.896061Z",
     "iopub.status.busy": "2020-08-28T15:53:23.896061Z",
     "iopub.status.idle": "2020-08-28T15:53:23.908064Z",
     "shell.execute_reply": "2020-08-28T15:53:23.908064Z"
    }
   },
   "outputs": [
    {
     "name": "stdout",
     "output_type": "stream",
     "text": [
      "[ 0  1  2  3  4  5  6  7  8  9 10 11 12 13 14]\n",
      "(15,)\n",
      "1\n",
      "int32\n",
      "4\n",
      "15\n",
      "<class 'numpy.ndarray'>\n"
     ]
    }
   ],
   "source": [
    "print(a)\n",
    "print(a.shape)\n",
    "print(a.ndim)\n",
    "print(a.dtype.name)\n",
    "print(a.itemsize)\n",
    "print(a.size)\n",
    "print(type(a))"
   ]
  },
  {
   "cell_type": "markdown",
   "metadata": {},
   "source": [
    "#### Creating arrays\n",
    "You can create an array from a regular Python list or tuple using the array function. The type of the resulting array is deduced from the type of the elements in the sequences.\n",
    "\n",
    "A frequent error consists in calling array with multiple numeric arguments, rather than providing a single list of numbers as an argument.\n",
    "```\n",
    "a = np.array(1,2,3,4)    # WRONG\n",
    "a = np.array([1,2,3,4])  # RIGHT\n",
    "```"
   ]
  },
  {
   "cell_type": "code",
   "execution_count": 38,
   "metadata": {
    "execution": {
     "iopub.execute_input": "2020-08-28T15:53:23.912065Z",
     "iopub.status.busy": "2020-08-28T15:53:23.911064Z",
     "iopub.status.idle": "2020-08-28T15:53:23.923067Z",
     "shell.execute_reply": "2020-08-28T15:53:23.924069Z"
    }
   },
   "outputs": [
    {
     "name": "stdout",
     "output_type": "stream",
     "text": [
      "[6 7 8]\n",
      "<class 'numpy.ndarray'>\n"
     ]
    }
   ],
   "source": [
    "b = Junaid.array([6, 7, 8])\n",
    "print(b)\n",
    "print(type(b))"
   ]
  },
  {
   "cell_type": "markdown",
   "metadata": {},
   "source": [
    "`array` transforms sequences of sequences into two-dimensional arrays, sequences of sequences of sequences into three-dimensional arrays, and so on."
   ]
  },
  {
   "cell_type": "code",
   "execution_count": 39,
   "metadata": {
    "execution": {
     "iopub.execute_input": "2020-08-28T15:53:23.928068Z",
     "iopub.status.busy": "2020-08-28T15:53:23.928068Z",
     "iopub.status.idle": "2020-08-28T15:53:23.938071Z",
     "shell.execute_reply": "2020-08-28T15:53:23.939071Z"
    }
   },
   "outputs": [
    {
     "name": "stdout",
     "output_type": "stream",
     "text": [
      "[[1.5 2.  3. ]\n",
      " [4.  5.  6. ]\n",
      " [7.1 7.2 7.3]]\n",
      "\n",
      "(3, 3)\n"
     ]
    }
   ],
   "source": [
    "c = Junaid.array([(1.5, 2 ,3), (4, 5, 6), (7.1, 7.2, 7.3)])\n",
    "print(c)\n",
    "print()\n",
    "\n",
    "print(c.shape)"
   ]
  },
  {
   "cell_type": "markdown",
   "metadata": {},
   "source": [
    "The function `zeros` creates an array full of zeros, the function `ones` creates an array full of ones, the function `random.rand` creates an array of random floats from a uniform distribution over [0, 1], and the function `empty` creates an array whose initial content is random and depends on the state of the memory. By default, the dtype of the created array is `float64`."
   ]
  },
  {
   "cell_type": "code",
   "execution_count": 40,
   "metadata": {
    "execution": {
     "iopub.execute_input": "2020-08-28T15:53:23.942071Z",
     "iopub.status.busy": "2020-08-28T15:53:23.942071Z",
     "iopub.status.idle": "2020-08-28T15:53:23.954075Z",
     "shell.execute_reply": "2020-08-28T15:53:23.955074Z"
    }
   },
   "outputs": [
    {
     "data": {
      "text/plain": [
       "array([[0., 0., 0., 0.],\n",
       "       [0., 0., 0., 0.],\n",
       "       [0., 0., 0., 0.]])"
      ]
     },
     "execution_count": 40,
     "metadata": {},
     "output_type": "execute_result"
    }
   ],
   "source": [
    "Junaid.zeros((3,4))"
   ]
  },
  {
   "cell_type": "code",
   "execution_count": 41,
   "metadata": {
    "execution": {
     "iopub.execute_input": "2020-08-28T15:53:23.958075Z",
     "iopub.status.busy": "2020-08-28T15:53:23.957075Z",
     "iopub.status.idle": "2020-08-28T15:53:23.971078Z",
     "shell.execute_reply": "2020-08-28T15:53:23.971078Z"
    }
   },
   "outputs": [],
   "source": [
    "import numpy as np"
   ]
  },
  {
   "cell_type": "code",
   "execution_count": 42,
   "metadata": {
    "execution": {
     "iopub.execute_input": "2020-08-28T15:53:23.974079Z",
     "iopub.status.busy": "2020-08-28T15:53:23.974079Z",
     "iopub.status.idle": "2020-08-28T15:53:23.985082Z",
     "shell.execute_reply": "2020-08-28T15:53:23.986083Z"
    }
   },
   "outputs": [],
   "source": [
    "test = np.ones((2,3,4), dtype=np.int16)"
   ]
  },
  {
   "cell_type": "code",
   "execution_count": 43,
   "metadata": {
    "execution": {
     "iopub.execute_input": "2020-08-28T15:53:23.989083Z",
     "iopub.status.busy": "2020-08-28T15:53:23.989083Z",
     "iopub.status.idle": "2020-08-28T15:53:24.001086Z",
     "shell.execute_reply": "2020-08-28T15:53:24.001086Z"
    }
   },
   "outputs": [
    {
     "data": {
      "text/plain": [
       "array([[0.45990194, 0.01827525],\n",
       "       [0.34262907, 0.85651399],\n",
       "       [0.51391205, 0.15228867]])"
      ]
     },
     "execution_count": 43,
     "metadata": {},
     "output_type": "execute_result"
    }
   ],
   "source": [
    "np.random.rand(3,2)"
   ]
  },
  {
   "cell_type": "code",
   "execution_count": 44,
   "metadata": {
    "execution": {
     "iopub.execute_input": "2020-08-28T15:53:24.005086Z",
     "iopub.status.busy": "2020-08-28T15:53:24.004085Z",
     "iopub.status.idle": "2020-08-28T15:53:24.015089Z",
     "shell.execute_reply": "2020-08-28T15:53:24.016089Z"
    }
   },
   "outputs": [
    {
     "data": {
      "text/plain": [
       "array([[0.45990194, 0.01827525, 0.34262907],\n",
       "       [0.85651399, 0.51391205, 0.15228867]])"
      ]
     },
     "execution_count": 44,
     "metadata": {},
     "output_type": "execute_result"
    }
   ],
   "source": [
    "np.empty((2,3)) # uninitialized, output may vary"
   ]
  },
  {
   "cell_type": "markdown",
   "metadata": {},
   "source": [
    "To create sequences of numbers, NumPy provides a function analogous to `range` that returns arrays instead of lists."
   ]
  },
  {
   "cell_type": "code",
   "execution_count": 45,
   "metadata": {
    "execution": {
     "iopub.execute_input": "2020-08-28T15:53:24.019089Z",
     "iopub.status.busy": "2020-08-28T15:53:24.018089Z",
     "iopub.status.idle": "2020-08-28T15:53:24.031092Z",
     "shell.execute_reply": "2020-08-28T15:53:24.032092Z"
    }
   },
   "outputs": [
    {
     "data": {
      "text/plain": [
       "array([10, 15, 20, 25])"
      ]
     },
     "execution_count": 45,
     "metadata": {},
     "output_type": "execute_result"
    }
   ],
   "source": [
    "np.arange( 10, 30, 5 ) # array from 10 to 30 in increments of 5"
   ]
  },
  {
   "cell_type": "markdown",
   "metadata": {},
   "source": [
    "#### Shape Manipulation\n",
    "\n",
    "Three main functions include:\n",
    "- `ravel()` flattens an array\n",
    "- `reshape()` changes the shape of arrays\n",
    "- `transpose()` transposes the array"
   ]
  },
  {
   "cell_type": "code",
   "execution_count": 46,
   "metadata": {
    "execution": {
     "iopub.execute_input": "2020-08-28T15:53:24.035092Z",
     "iopub.status.busy": "2020-08-28T15:53:24.035092Z",
     "iopub.status.idle": "2020-08-28T15:53:24.046095Z",
     "shell.execute_reply": "2020-08-28T15:53:24.047095Z"
    }
   },
   "outputs": [
    {
     "data": {
      "text/plain": [
       "array([[0.37083666, 0.2844038 , 0.15797126, 0.03444677],\n",
       "       [0.55702046, 0.62892361, 0.46953167, 0.58486063],\n",
       "       [0.60505106, 0.07535238, 0.79589353, 0.01060869],\n",
       "       [0.92488606, 0.04077875, 0.44443462, 0.58230919]])"
      ]
     },
     "execution_count": 46,
     "metadata": {},
     "output_type": "execute_result"
    }
   ],
   "source": [
    "example = np.random.rand(4,4)\n",
    "example"
   ]
  },
  {
   "cell_type": "code",
   "execution_count": 47,
   "metadata": {
    "execution": {
     "iopub.execute_input": "2020-08-28T15:53:24.050097Z",
     "iopub.status.busy": "2020-08-28T15:53:24.049096Z",
     "iopub.status.idle": "2020-08-28T15:53:24.061668Z",
     "shell.execute_reply": "2020-08-28T15:53:24.061668Z"
    }
   },
   "outputs": [
    {
     "data": {
      "text/plain": [
       "array([[3.70836662, 2.84403805, 1.57971257, 0.3444677 ],\n",
       "       [5.57020458, 6.28923612, 4.69531671, 5.84860634],\n",
       "       [6.0505106 , 0.75352384, 7.95893531, 0.10608688],\n",
       "       [9.24886063, 0.40778745, 4.44434622, 5.82309186]])"
      ]
     },
     "execution_count": 47,
     "metadata": {},
     "output_type": "execute_result"
    }
   ],
   "source": [
    "example*10"
   ]
  },
  {
   "cell_type": "code",
   "execution_count": 48,
   "metadata": {
    "execution": {
     "iopub.execute_input": "2020-08-28T15:53:24.064669Z",
     "iopub.status.busy": "2020-08-28T15:53:24.064669Z",
     "iopub.status.idle": "2020-08-28T15:53:24.076904Z",
     "shell.execute_reply": "2020-08-28T15:53:24.076904Z"
    }
   },
   "outputs": [
    {
     "data": {
      "text/plain": [
       "array([0.37083666, 0.2844038 , 0.15797126, 0.03444677, 0.55702046,\n",
       "       0.62892361, 0.46953167, 0.58486063, 0.60505106, 0.07535238,\n",
       "       0.79589353, 0.01060869, 0.92488606, 0.04077875, 0.44443462,\n",
       "       0.58230919])"
      ]
     },
     "execution_count": 48,
     "metadata": {},
     "output_type": "execute_result"
    }
   ],
   "source": [
    "example_flat = example.ravel()  # returns the array, flattened\n",
    "example_flat"
   ]
  },
  {
   "cell_type": "code",
   "execution_count": 49,
   "metadata": {
    "execution": {
     "iopub.execute_input": "2020-08-28T15:53:24.080905Z",
     "iopub.status.busy": "2020-08-28T15:53:24.079905Z",
     "iopub.status.idle": "2020-08-28T15:53:24.092912Z",
     "shell.execute_reply": "2020-08-28T15:53:24.091911Z"
    }
   },
   "outputs": [
    {
     "data": {
      "text/plain": [
       "array([[0.37083666, 0.2844038 , 0.15797126, 0.03444677, 0.55702046,\n",
       "        0.62892361, 0.46953167, 0.58486063],\n",
       "       [0.60505106, 0.07535238, 0.79589353, 0.01060869, 0.92488606,\n",
       "        0.04077875, 0.44443462, 0.58230919]])"
      ]
     },
     "execution_count": 49,
     "metadata": {},
     "output_type": "execute_result"
    }
   ],
   "source": [
    "example_flat.reshape(2,8) # returns the array with a modified shape 2x8"
   ]
  },
  {
   "cell_type": "code",
   "execution_count": 50,
   "metadata": {
    "execution": {
     "iopub.execute_input": "2020-08-28T15:53:24.095914Z",
     "iopub.status.busy": "2020-08-28T15:53:24.094913Z",
     "iopub.status.idle": "2020-08-28T15:53:24.106919Z",
     "shell.execute_reply": "2020-08-28T15:53:24.106919Z"
    }
   },
   "outputs": [
    {
     "data": {
      "text/plain": [
       "array([[0.37083666, 0.2844038 , 0.15797126, 0.03444677],\n",
       "       [0.55702046, 0.62892361, 0.46953167, 0.58486063],\n",
       "       [0.60505106, 0.07535238, 0.79589353, 0.01060869],\n",
       "       [0.92488606, 0.04077875, 0.44443462, 0.58230919]])"
      ]
     },
     "execution_count": 50,
     "metadata": {},
     "output_type": "execute_result"
    }
   ],
   "source": [
    "example_flat.reshape(4,4) # returns the array back to original shape"
   ]
  },
  {
   "cell_type": "code",
   "execution_count": 51,
   "metadata": {
    "execution": {
     "iopub.execute_input": "2020-08-28T15:53:24.109919Z",
     "iopub.status.busy": "2020-08-28T15:53:24.109919Z",
     "iopub.status.idle": "2020-08-28T15:53:24.122099Z",
     "shell.execute_reply": "2020-08-28T15:53:24.122099Z"
    }
   },
   "outputs": [],
   "source": [
    "test = np.random.rand(2,3,6)"
   ]
  },
  {
   "cell_type": "code",
   "execution_count": 52,
   "metadata": {
    "execution": {
     "iopub.execute_input": "2020-08-28T15:53:24.126101Z",
     "iopub.status.busy": "2020-08-28T15:53:24.126101Z",
     "iopub.status.idle": "2020-08-28T15:53:24.138108Z",
     "shell.execute_reply": "2020-08-28T15:53:24.138108Z"
    }
   },
   "outputs": [
    {
     "data": {
      "text/plain": [
       "array([[[0.28907543, 0.17006346, 0.94985637, 0.64565752, 0.55719657,\n",
       "         0.05321959],\n",
       "        [0.23553611, 0.56030895, 0.6427073 , 0.83371348, 0.93581594,\n",
       "         0.78846414],\n",
       "        [0.57423241, 0.18121252, 0.62028357, 0.58646853, 0.67646326,\n",
       "         0.65162644]],\n",
       "\n",
       "       [[0.7240001 , 0.92727034, 0.37641013, 0.34311384, 0.40672377,\n",
       "         0.8013007 ],\n",
       "        [0.46690865, 0.88119919, 0.56044404, 0.06284811, 0.60124067,\n",
       "         0.5131499 ],\n",
       "        [0.38193574, 0.68318104, 0.53693481, 0.71216999, 0.9529403 ,\n",
       "         0.4010532 ]]])"
      ]
     },
     "execution_count": 52,
     "metadata": {},
     "output_type": "execute_result"
    }
   ],
   "source": [
    "test"
   ]
  },
  {
   "cell_type": "code",
   "execution_count": 53,
   "metadata": {
    "execution": {
     "iopub.execute_input": "2020-08-28T15:53:24.142108Z",
     "iopub.status.busy": "2020-08-28T15:53:24.141108Z",
     "iopub.status.idle": "2020-08-28T15:53:24.153113Z",
     "shell.execute_reply": "2020-08-28T15:53:24.153113Z"
    }
   },
   "outputs": [
    {
     "data": {
      "text/plain": [
       "array([0.28907543, 0.17006346, 0.94985637, 0.64565752, 0.55719657,\n",
       "       0.05321959, 0.23553611, 0.56030895, 0.6427073 , 0.83371348,\n",
       "       0.93581594, 0.78846414, 0.57423241, 0.18121252, 0.62028357,\n",
       "       0.58646853, 0.67646326, 0.65162644, 0.7240001 , 0.92727034,\n",
       "       0.37641013, 0.34311384, 0.40672377, 0.8013007 , 0.46690865,\n",
       "       0.88119919, 0.56044404, 0.06284811, 0.60124067, 0.5131499 ,\n",
       "       0.38193574, 0.68318104, 0.53693481, 0.71216999, 0.9529403 ,\n",
       "       0.4010532 ])"
      ]
     },
     "execution_count": 53,
     "metadata": {},
     "output_type": "execute_result"
    }
   ],
   "source": [
    "test.ravel()"
   ]
  },
  {
   "cell_type": "code",
   "execution_count": 54,
   "metadata": {
    "execution": {
     "iopub.execute_input": "2020-08-28T15:53:24.156113Z",
     "iopub.status.busy": "2020-08-28T15:53:24.156113Z",
     "iopub.status.idle": "2020-08-28T15:53:24.169117Z",
     "shell.execute_reply": "2020-08-28T15:53:24.169117Z"
    }
   },
   "outputs": [
    {
     "data": {
      "text/plain": [
       "array([[0.37083666, 0.55702046, 0.60505106, 0.92488606],\n",
       "       [0.2844038 , 0.62892361, 0.07535238, 0.04077875],\n",
       "       [0.15797126, 0.46953167, 0.79589353, 0.44443462],\n",
       "       [0.03444677, 0.58486063, 0.01060869, 0.58230919]])"
      ]
     },
     "execution_count": 54,
     "metadata": {},
     "output_type": "execute_result"
    }
   ],
   "source": [
    "example.transpose()"
   ]
  },
  {
   "cell_type": "markdown",
   "metadata": {},
   "source": [
    "## \"The Zen of Python\"\n",
    "*from [Whirlwind Tour of Python](https://github.com/jakevdp/WhirlwindTourOfPython/blob/master/00-Introduction.ipynb)*\n",
    "\n",
    "\"Python aficionados are often quick to point out how \"intuitive\", \"beautiful\", or \"fun\" Python is. While I tend to agree, I also recognize that beauty, intuition, and fun often go hand in hand with familiarity, and so for those familiar with other languages such florid sentiments can come across as a bit smug. Nevertheless, I hope that if you give Python a chance, you'll see where such impressions might come from. And if you really want to dig into the programming philosophy that drives much of the coding practice of Python power-users, a nice little Easter egg exists in the Python interpreter: simply close your eyes, meditate for a few minutes, and `import this`\""
   ]
  },
  {
   "cell_type": "code",
   "execution_count": 55,
   "metadata": {
    "execution": {
     "iopub.execute_input": "2020-08-28T15:53:24.172116Z",
     "iopub.status.busy": "2020-08-28T15:53:24.171117Z",
     "iopub.status.idle": "2020-08-28T15:53:24.185120Z",
     "shell.execute_reply": "2020-08-28T15:53:24.186120Z"
    }
   },
   "outputs": [
    {
     "name": "stdout",
     "output_type": "stream",
     "text": [
      "The Zen of Python, by Tim Peters\n",
      "\n",
      "Beautiful is better than ugly.\n",
      "Explicit is better than implicit.\n",
      "Simple is better than complex.\n",
      "Complex is better than complicated.\n",
      "Flat is better than nested.\n",
      "Sparse is better than dense.\n",
      "Readability counts.\n",
      "Special cases aren't special enough to break the rules.\n",
      "Although practicality beats purity.\n",
      "Errors should never pass silently.\n",
      "Unless explicitly silenced.\n",
      "In the face of ambiguity, refuse the temptation to guess.\n",
      "There should be one-- and preferably only one --obvious way to do it.\n",
      "Although that way may not be obvious at first unless you're Dutch.\n",
      "Now is better than never.\n",
      "Although never is often better than *right* now.\n",
      "If the implementation is hard to explain, it's a bad idea.\n",
      "If the implementation is easy to explain, it may be a good idea.\n",
      "Namespaces are one honking great idea -- let's do more of those!\n"
     ]
    }
   ],
   "source": [
    "import this"
   ]
  },
  {
   "cell_type": "code",
   "execution_count": null,
   "metadata": {},
   "outputs": [],
   "source": []
  }
 ],
 "metadata": {
  "kernelspec": {
   "display_name": "Python 3",
   "language": "python",
   "name": "python3"
  },
  "language_info": {
   "codemirror_mode": {
    "name": "ipython",
    "version": 3
   },
   "file_extension": ".py",
   "mimetype": "text/x-python",
   "name": "python",
   "nbconvert_exporter": "python",
   "pygments_lexer": "ipython3",
   "version": "3.7.8"
  }
 },
 "nbformat": 4,
 "nbformat_minor": 2
}